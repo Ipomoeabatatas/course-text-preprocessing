{
 "cells": [
  {
   "cell_type": "markdown",
   "metadata": {},
   "source": [
    "## Text Preprocessing \n"
   ]
  },
  {
   "cell_type": "code",
   "execution_count": 20,
   "metadata": {},
   "outputs": [],
   "source": [
    "import nltk\n",
    "from nltk.tokenize import word_tokenize\n",
    "from nltk.tokenize import sent_tokenize\n",
    "from nltk.tokenize import RegexpTokenizer\n",
    "from nltk.util import ngrams\n",
    "from nltk.corpus import stopwords\n",
    "import pandas as pd\n",
    "import re \n",
    "import string\n",
    "from nltk.corpus import stopwords"
   ]
  },
  {
   "cell_type": "code",
   "execution_count": 21,
   "metadata": {
    "scrolled": true
   },
   "outputs": [],
   "source": [
    "reviews = [[\"POSITIVE\",\"The product is really good\", [],[], []],\n",
    "           [\"POSITIVE\",\"The products is good\", [],[], []],\n",
    "           [\"POSITIVE\",\"Good product I really liked it\", [],[],[]],\n",
    "           [\"NEGATIVE\",\"I didn't like the product\", [],[], []],\n",
    "           [\"NEGATIVE\",\"The product is not good\", [],[], []]]\n",
    "\n",
    "df = pd.DataFrame(reviews, columns=['label','original_review', 'tokens_raw', \n",
    "                                    \"tokens_default_stopwords\",\"tokens_modified_stopwords\"])"
   ]
  },
  {
   "cell_type": "code",
   "execution_count": 22,
   "metadata": {},
   "outputs": [],
   "source": [
    "whitespace_tokenizer = RegexpTokenizer(\"\\s+\", gaps=True)"
   ]
  },
  {
   "cell_type": "code",
   "execution_count": 23,
   "metadata": {},
   "outputs": [],
   "source": [
    "stopwords_default = set(stopwords.words('english'))\n",
    "\n",
    "stopwords_modified = set(stopwords.words('english'))\n",
    "stopwords_modified.remove('not')\n",
    "stopwords_modified.remove(\"didn't\")"
   ]
  },
  {
   "cell_type": "code",
   "execution_count": 24,
   "metadata": {},
   "outputs": [],
   "source": [
    "for index, row in df.iterrows():\n",
    "    original_review = row['original_review'].lower()\n",
    "    row['tokens_raw'] = whitespace_tokenizer.tokenize(original_review)\n",
    "\n",
    "    for t in row['tokens_raw']:\n",
    "        if not(t in stopwords_default):\n",
    "            row['tokens_default_stopwords'].append(t)\n",
    "        if not(t in stopwords_modified):\n",
    "            row['tokens_modified_stopwords'].append(t)"
   ]
  },
  {
   "cell_type": "code",
   "execution_count": 25,
   "metadata": {
    "scrolled": true
   },
   "outputs": [
    {
     "data": {
      "text/html": [
       "<div>\n",
       "<style scoped>\n",
       "    .dataframe tbody tr th:only-of-type {\n",
       "        vertical-align: middle;\n",
       "    }\n",
       "\n",
       "    .dataframe tbody tr th {\n",
       "        vertical-align: top;\n",
       "    }\n",
       "\n",
       "    .dataframe thead th {\n",
       "        text-align: right;\n",
       "    }\n",
       "</style>\n",
       "<table border=\"1\" class=\"dataframe\">\n",
       "  <thead>\n",
       "    <tr style=\"text-align: right;\">\n",
       "      <th></th>\n",
       "      <th>label</th>\n",
       "      <th>original_review</th>\n",
       "      <th>tokens_raw</th>\n",
       "      <th>tokens_default_stopwords</th>\n",
       "      <th>tokens_modified_stopwords</th>\n",
       "    </tr>\n",
       "  </thead>\n",
       "  <tbody>\n",
       "    <tr>\n",
       "      <th>0</th>\n",
       "      <td>POSITIVE</td>\n",
       "      <td>The product is really good</td>\n",
       "      <td>[the, product, is, really, good]</td>\n",
       "      <td>[product, really, good]</td>\n",
       "      <td>[product, really, good]</td>\n",
       "    </tr>\n",
       "    <tr>\n",
       "      <th>1</th>\n",
       "      <td>POSITIVE</td>\n",
       "      <td>The products is good</td>\n",
       "      <td>[the, products, is, good]</td>\n",
       "      <td>[products, good]</td>\n",
       "      <td>[products, good]</td>\n",
       "    </tr>\n",
       "    <tr>\n",
       "      <th>2</th>\n",
       "      <td>POSITIVE</td>\n",
       "      <td>Good product I really liked it</td>\n",
       "      <td>[good, product, i, really, liked, it]</td>\n",
       "      <td>[good, product, really, liked]</td>\n",
       "      <td>[good, product, really, liked]</td>\n",
       "    </tr>\n",
       "    <tr>\n",
       "      <th>3</th>\n",
       "      <td>NEGATIVE</td>\n",
       "      <td>I didn't like the product</td>\n",
       "      <td>[i, didn't, like, the, product]</td>\n",
       "      <td>[like, product]</td>\n",
       "      <td>[didn't, like, product]</td>\n",
       "    </tr>\n",
       "    <tr>\n",
       "      <th>4</th>\n",
       "      <td>NEGATIVE</td>\n",
       "      <td>The product is not good</td>\n",
       "      <td>[the, product, is, not, good]</td>\n",
       "      <td>[product, good]</td>\n",
       "      <td>[product, not, good]</td>\n",
       "    </tr>\n",
       "  </tbody>\n",
       "</table>\n",
       "</div>"
      ],
      "text/plain": [
       "      label                 original_review  \\\n",
       "0  POSITIVE      The product is really good   \n",
       "1  POSITIVE            The products is good   \n",
       "2  POSITIVE  Good product I really liked it   \n",
       "3  NEGATIVE       I didn't like the product   \n",
       "4  NEGATIVE         The product is not good   \n",
       "\n",
       "                              tokens_raw        tokens_default_stopwords  \\\n",
       "0       [the, product, is, really, good]         [product, really, good]   \n",
       "1              [the, products, is, good]                [products, good]   \n",
       "2  [good, product, i, really, liked, it]  [good, product, really, liked]   \n",
       "3        [i, didn't, like, the, product]                 [like, product]   \n",
       "4          [the, product, is, not, good]                 [product, good]   \n",
       "\n",
       "        tokens_modified_stopwords  \n",
       "0         [product, really, good]  \n",
       "1                [products, good]  \n",
       "2  [good, product, really, liked]  \n",
       "3         [didn't, like, product]  \n",
       "4            [product, not, good]  "
      ]
     },
     "execution_count": 25,
     "metadata": {},
     "output_type": "execute_result"
    }
   ],
   "source": [
    "df.head()"
   ]
  },
  {
   "cell_type": "code",
   "execution_count": null,
   "metadata": {},
   "outputs": [],
   "source": []
  },
  {
   "cell_type": "code",
   "execution_count": null,
   "metadata": {},
   "outputs": [],
   "source": []
  },
  {
   "cell_type": "code",
   "execution_count": null,
   "metadata": {},
   "outputs": [],
   "source": []
  }
 ],
 "metadata": {
  "kernelspec": {
   "display_name": "Python 3",
   "language": "python",
   "name": "python3"
  },
  "language_info": {
   "codemirror_mode": {
    "name": "ipython",
    "version": 3
   },
   "file_extension": ".py",
   "mimetype": "text/x-python",
   "name": "python",
   "nbconvert_exporter": "python",
   "pygments_lexer": "ipython3",
   "version": "3.6.7"
  }
 },
 "nbformat": 4,
 "nbformat_minor": 2
}
