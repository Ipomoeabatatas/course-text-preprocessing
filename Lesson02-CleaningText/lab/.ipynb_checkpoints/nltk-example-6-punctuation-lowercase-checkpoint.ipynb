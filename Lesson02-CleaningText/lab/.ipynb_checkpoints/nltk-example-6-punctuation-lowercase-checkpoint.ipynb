{
 "cells": [
  {
   "cell_type": "markdown",
   "metadata": {},
   "source": [
    "## Text Preprocessing \n"
   ]
  },
  {
   "cell_type": "code",
   "execution_count": 1,
   "metadata": {},
   "outputs": [],
   "source": [
    "import nltk\n",
    "from nltk.tokenize import word_tokenize\n",
    "from nltk.tokenize import sent_tokenize\n",
    "from nltk.tokenize import RegexpTokenizer\n",
    "from nltk.util import ngrams\n",
    "from nltk.corpus import stopwords\n",
    "import pandas as pd\n",
    "import re \n",
    "import string"
   ]
  },
  {
   "cell_type": "markdown",
   "metadata": {},
   "source": [
    "####  Reduce to small case and unncessary punctuations"
   ]
  },
  {
   "cell_type": "code",
   "execution_count": 97,
   "metadata": {
    "scrolled": true
   },
   "outputs": [],
   "source": [
    "my_text = \"\"\"Open a bank account. The nearest DBS Bank is besides \n",
    "the river bank. On your way there, you may wish to donate some blood \n",
    "at the nearby blood bank. Will you be willing to donate? \n",
    "It is open from 9:00 a.m to 4:00 p.m.\"\"\""
   ]
  },
  {
   "cell_type": "code",
   "execution_count": 98,
   "metadata": {},
   "outputs": [],
   "source": [
    "tokens = word_tokenize(my_text)"
   ]
  },
  {
   "cell_type": "code",
   "execution_count": 100,
   "metadata": {},
   "outputs": [],
   "source": [
    "tokens_no_punctuation = []\n",
    "for t in tokens:\n",
    "    if not(t in string.punctuation):\n",
    "        tokens_no_punctuation.append(t.lower())  "
   ]
  },
  {
   "cell_type": "code",
   "execution_count": 101,
   "metadata": {
    "scrolled": true
   },
   "outputs": [
    {
     "name": "stdout",
     "output_type": "stream",
     "text": [
      "['open', 'a', 'bank', 'account', 'the', 'nearest', 'dbs', 'bank', 'is', 'besides', 'the', 'river', 'bank', 'on', 'your', 'way', 'there', 'you', 'may', 'wish', 'to', 'donate', 'some', 'blood', 'at', 'the', 'nearby', 'blood', 'bank', 'will', 'you', 'be', 'willing', 'to', 'donate', 'it', 'is', 'open', 'from', '9:00', 'a.m', 'to', '4:00', 'p.m']\n"
     ]
    }
   ],
   "source": [
    "print (tokens_no_punctuation)"
   ]
  },
  {
   "cell_type": "code",
   "execution_count": null,
   "metadata": {},
   "outputs": [],
   "source": []
  }
 ],
 "metadata": {
  "kernelspec": {
   "display_name": "Python 3",
   "language": "python",
   "name": "python3"
  },
  "language_info": {
   "codemirror_mode": {
    "name": "ipython",
    "version": 3
   },
   "file_extension": ".py",
   "mimetype": "text/x-python",
   "name": "python",
   "nbconvert_exporter": "python",
   "pygments_lexer": "ipython3",
   "version": "3.6.7"
  }
 },
 "nbformat": 4,
 "nbformat_minor": 2
}
