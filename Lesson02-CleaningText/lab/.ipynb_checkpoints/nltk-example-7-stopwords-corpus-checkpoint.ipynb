{
 "cells": [
  {
   "cell_type": "markdown",
   "metadata": {},
   "source": [
    "## Text Preprocessing \n"
   ]
  },
  {
   "cell_type": "code",
   "execution_count": 1,
   "metadata": {},
   "outputs": [],
   "source": [
    "import nltk\n",
    "from nltk.tokenize import word_tokenize\n",
    "from nltk.tokenize import sent_tokenize\n",
    "from nltk.tokenize import RegexpTokenizer\n",
    "from nltk.util import ngrams\n",
    "from nltk.corpus import stopwords\n",
    "import pandas as pd\n",
    "import re \n",
    "import string"
   ]
  },
  {
   "cell_type": "code",
   "execution_count": 27,
   "metadata": {},
   "outputs": [],
   "source": [
    "from nltk.corpus import stopwords\n",
    "languages =['english', 'indonesian', 'french', 'arabic', 'azerbaijani', 'danish', 'dutch' ]"
   ]
  },
  {
   "cell_type": "code",
   "execution_count": 28,
   "metadata": {
    "scrolled": false
   },
   "outputs": [
    {
     "name": "stdout",
     "output_type": "stream",
     "text": [
      "The stop words for english are: \n",
      " {\"isn't\", 'these', 'at', 'down', 'such', 'out', 'again', 'our', 'too', 'be', 'so', 'between', 'each', 'my', 'any', 'then', 'they', 'doesn', 'both', 'below', 'him', 'off', 're', 'now', 'whom', \"don't\", 'aren', 'an', 'those', 'but', \"doesn't\", 'with', \"mustn't\", \"couldn't\", 'wouldn', \"haven't\", 'what', \"you're\", \"won't\", 'has', 'under', 'very', 'the', \"shouldn't\", 'about', 'me', 'through', 'hasn', 'further', 'most', 'if', \"you'd\", 'after', 'while', 'theirs', 'above', \"needn't\", 'd', 'few', 'o', \"wasn't\", 'i', 'were', \"hasn't\", 'nor', 'will', 'his', 'there', 'myself', 'had', 'being', 'do', 'll', \"shan't\", 'here', 'other', 'mustn', 'not', 'over', 'herself', \"didn't\", 'when', 'your', 'them', 't', \"aren't\", 'during', 'shouldn', 'against', \"wouldn't\", 'yourselves', 'are', 'on', \"that'll\", \"should've\", 'doing', 's', 'until', 'is', 'once', 'for', \"weren't\", 'wasn', 'this', 'all', 'or', 'itself', 'can', 'hadn', 'no', 'have', 'yours', 'a', 'themselves', 'why', 'should', 'am', \"you've\", 'how', 'needn', 'yourself', 've', 'ours', 'did', 'she', 'which', \"it's\", 'her', 'as', 'in', 'm', \"you'll\", 'weren', 'and', \"mightn't\", 'up', 'their', 'some', 'couldn', 'just', 'haven', 'ain', 'before', 'from', 'its', 'because', 'only', 'than', 'don', 'been', 'isn', 'into', 'himself', 'ourselves', 'own', 'ma', 'didn', 'mightn', 'more', 'shan', 'who', 'where', \"she's\", 'we', 'having', 'that', 'was', 'won', \"hadn't\", 'by', 'to', 'hers', 'y', 'he', 'it', 'does', 'same', 'you', 'of'}\n",
      "\n",
      "\n",
      "The stop words for indonesian are: \n",
      " {'bersiap-siap', 'sekali', 'tunjuk', 'memintakan', 'dipersoalkan', 'telah', 'dibuat', 'tengah', 'yaitu', 'malahan', 'dilalui', 'masing-masing', 'tampaknya', 'terjadilah', 'dimaksudnya', 'tentu', 'atas', 'kelihatan', 'perlu', 'depan', 'berbagai', 'tuturnya', 'sampai-sampai', 'kalau', 'mengibaratkannya', 'usai', 'menyiapkan', 'merasa', 'masihkah', 'menggunakan', 'sebabnya', 'bahwa', 'seluruhnya', 'tempat', 'namun', 'cuma', 'secara', 'ujarnya', 'sedemikian', 'di', 'mengerjakan', 'ibaratkan', 'katakan', 'tahu', 'ialah', 'berjumlah', 'menyatakan', 'semacam', 'bagaimanakah', 'kapanpun', 'bagaimana', 'sebesar', 'beginian', 'sama', 'diperbuatnya', 'keterlaluan', 'bawah', 'semisalnya', 'kamulah', 'setiba', 'masing', 'menanti', 'sebegini', 'soal', 'sebaik', 'bukan', 'terhadapnya', 'tegas', 'berapa', 'dialah', 'menunjuk', 'maka', 'kesampaian', 'sebanyak', 'gunakan', 'mempersoalkan', 'kami', 'dipunyai', 'beginikah', 'sedangkan', 'menunjuki', 'selamanya', 'berlainan', 'apatah', 'kini', 'sampai', 'jikalau', 'bermula', 'kedua', 'guna', 'berapakah', 'pak', 'sekitar', 'mengira', 'pun', 'mereka', 'sekali-kali', 'bermaksud', 'agaknya', 'sini', 'makin', 'terutama', 'se', 'baru', 'akhiri', 'tinggi', 'walau', 'memang', 'sejenak', 'bolehlah', 'siapa', 'adanya', 'paling', 'cukupkah', 'ia', 'mengucapkannya', 'nantinya', 'akhir', 'sedikit', 'sinilah', 'seperlunya', 'nanti', 'daripada', 'saling', 'demikianlah', 'entah', 'disebut', 'bermacam-macam', 'dimungkinkan', 'dimisalkan', 'keseluruhan', 'sesaat', 'tentang', 'dengan', 'sering', 'terlebih', 'melainkan', 'siapapun', 'diibaratkannya', 'meskipun', 'memperbuat', 'ditanyakan', 'seperti', 'sepantasnya', 'terlalu', 'lanjutnya', 'jelaskan', 'jika', 'yang', 'masalah', 'sebaik-baiknya', 'sekaligus', 'serupa', 'hal', 'sewaktu', 'yakni', 'benarlah', 'memperlihatkan', 'asal', 'tidak', 'keinginan', 'tegasnya', 'menuturkan', 'saat', 'mengetahui', 'keadaan', 'terkira', 'tiba', 'seharusnya', 'harus', 'biasanya', 'memperkirakan', 'mengatakan', 'kita', 'bersiap', 'perlunya', 'bukanlah', 'jadi', 'kata', 'semua', 'disini', 'lima', 'kenapa', 'setengah', 'sekitarnya', 'berapalah', 'pastilah', 'diperlihatkan', 'begitu', 'hampir', 'ada', 'selanjutnya', 'berakhirlah', 'sangat', 'tersebutlah', 'nyatanya', 'akankah', 'digunakan', 'persoalan', 'bagaikan', 'sesudahnya', 'saatnya', 'usah', 'amat', 'tapi', 'menuju', 'teringat-ingat', 'padahal', 'termasuk', 'kan', 'beri', 'mulailah', 'menambahkan', 'kembali', 'bahkan', 'kelamaan', 'buat', 'benar', 'datang', 'keduanya', 'mulai', 'apaan', 'itukah', 'diberi', 'penting', 'terdiri', 'bekerja', 'itulah', 'melakukan', 'begini', 'dikatakannya', 'cara', 'jawabnya', 'menantikan', 'jawab', 'sesama', 'sebagainya', 'wah', 'selalu', 'masalahnya', 'inginkah', 'jumlahnya', 'ucap', 'kamilah', 'dua', 'mulanya', 'sesuatunya', 'terlihat', 'memisalkan', 'dikarenakan', 'justru', 'suatu', 'diibaratkan', 'entahlah', 'malah', 'selaku', 'empat', 'tetapi', 'memungkinkan', 'bagi', 'olehnya', 'ketika', 'sebutlah', 'serta', 'berapapun', 'anda', 'kelima', 'sekecil', 'artinya', 'dapat', 'jelaslah', 'sajalah', 'semampunya', 'setinggi', 'inikah', 'jauh', 'kok', 'sebelum', 'dipergunakan', 'dipertanyakan', 'lalu', 'disinilah', 'seseorang', 'seketika', 'berakhir', 'sendirian', 'jadilah', 'kiranya', 'kebetulan', 'mengakhiri', 'tertuju', 'minta', 'hari', 'panjang', 'mungkin', 'rata', 'mana', 'semisal', 'enggak', 'ikut', 'menandaskan', 'tersampaikan', 'tadi', 'tanyanya', 'dari', 'hanya', 'dilakukan', 'sesuatu', 'bersama-sama', 'dirinya', 'tiap', 'belum', 'belakangan', 'semasa', 'ternyata', 'katakanlah', 'membuat', 'manalagi', 'hanyalah', 'toh', 'menjawab', 'sejauh', 'segala', 'mempersiapkan', 'bakal', 'ditujukan', 'bertanya-tanya', 'diperkirakan', 'waktunya', 'meyakini', 'tanpa', 'mungkinkah', 'ditegaskan', 'beginilah', 'sangatlah', 'umumnya', 'akulah', 'antara', 'selama-lamanya', 'bisakah', 'menanya', 'mendatangkan', 'sudah', 'menanyai', 'tentunya', 'sekalian', 'mengingatkan', 'berdatangan', 'dibuatnya', 'pantas', 'pihak', 'sela', 'apakah', 'pertama-tama', 'disampaikan', 'dikerjakan', 'bapak', 'bertanya', 'diperbuat', 'awalnya', 'siap', 'awal', 'dituturkan', 'jadinya', 'mempertanyakan', 'oleh', 'sekarang', 'kira', 'pernah', 'ditambahkan', 'yakin', 'setiap', 'wahai', 'punya', 'lama', 'seolah-olah', 'belumlah', 'kitalah', 'misalkan', 'agak', 'kalaupun', 'biasa', 'sama-sama', 'apalagi', 'dilihat', 'mengatakannya', 'wong', 'jangankan', 'asalkan', 'memberikan', 'menanyakan', 'terjadinya', 'lah', 'kepadanya', 'berikutnya', 'diakhirinya', 'waduh', 'kasus', 'inilah', 'bertutur', 'meyakinkan', 'begitukah', 'sebelumnya', 'waktu', 'dimaksudkannya', 'mula', 'diberikan', 'seingat', 'tambahnya', 'bung', 'ingat-ingat', 'kalian', 'terjadi', 'berkeinginan', 'berkali-kali', 'disebutkan', 'semata-mata', 'bagian', 'memulai', 'menegaskan', 'dini', 'sebagaimana', 'juga', 'seusai', 'mengapa', 'kinilah', 'bermacam', 'diingat', 'bisa', 'memberi', 'berturut-turut', 'dikatakan', 'terasa', 'janganlah', 'apabila', 'sesampai', 'dimulailah', 'dikira', 'demikian', 'akhirnya', 'luar', 'memerlukan', 'sepertinya', 'adalah', 'diucapkan', 'tadinya', 'tertentu', 'masa', 'memastikan', 'mengingat', 'menjelaskan', 'diketahui', 'hingga', 'diperlukan', 'pertanyaan', 'turut', 'banyak', 'ibu', 'mendapatkan', 'ingin', 'sepantasnyalah', 'mengungkapkan', 'hendak', 'segalanya', 'berakhirnya', 'sebab', 'dijelaskan', 'saya', 'tutur', 'besar', 'bagaimanapun', 'sekalipun', 'sebetulnya', 'ibarat', 'tandas', 'bagai', 'inginkan', 'pada', 'tiga', 'perlukah', 'akan', 'diingatkan', 'sayalah', 'berkata', 'seberapa', 'pihaknya', 'sekurang-kurangnya', 'lebih', 'mau', 'berkehendak', 'karenanya', 'ditunjukkannya', 'menyangkut', 'berturut', 'jawaban', 'diri', 'mengenai', 'tanyakan', 'bolehkah', 'pentingnya', 'percuma', 'rasanya', 'mempunyai', 'semata', 'jelasnya', 'dijelaskannya', 'teringat', 'sebenarnya', 'dan', 'tetap', 'walaupun', 'lewat', 'hendaklah', 'mempergunakan', 'satu', 'sedikitnya', 'diberikannya', 'kelihatannya', 'belakang', 'katanya', 'sesudah', 'ibaratnya', 'untuk', 'dimulainya', 'dong', 'betulkah', 'betul', 'menunjuknya', 'tepat', 'adapun', 'berupa', 'sudahlah', 'makanya', 'kemungkinannya', 'kala', 'kira-kira', 'atau', 'tandasnya', 'semaunya', 'jumlah', 'maupun', 'ataukah', 'menaiki', 'nah', 'menanti-nanti', 'sekurangnya', 'merupakan', 'cukup', 'segera', 'melalui', 'sempat', 'lain', 'secukupnya', 'lanjut', 'sendirinya', 'sudahkah', 'ditunjuknya', 'diantaranya', 'keseluruhannya', 'apa', 'begitupun', 'masih', 'meski', 'sejumlah', 'setidak-tidaknya', 'bulan', 'menyampaikan', 'berlangsung', 'seringnya', 'dipastikan', 'enggaknya', 'memihak', 'kecil', 'dia', 'sebisanya', 'siapakah', 'terus', 'benarkah', 'lainnya', 'umum', 'sementara', 'supaya', 'terakhir', 'ataupun', 'haruslah', 'menyeluruh', 'kemungkinan', 'ditanya', 'rupanya', 'sebuah', 'sebagai', 'berujar', 'sebegitu', 'jangan', 'macam', 'mampu', 'setibanya', 'melihatnya', 'berkenaan', 'seenaknya', 'mendapat', 'tambah', 'dahulu', 'bilakah', 'itu', 'sebaliknya', 'karena', 'nyaris', 'pula', 'lagian', 'sampaikan', 'dimaksudkan', 'tiba-tiba', 'menunjukkan', 'tampak', 'kamu', 'lagi', 'terdahulu', 'diungkapkan', 'pertanyakan', 'sedang', 'keluar', 'berarti', 'khususnya', 'balik', 'ditandaskan', 'saja', 'sekadarnya', 'semuanya', 'diucapkannya', 'kapankah', 'kemudian', 'padanya', 'menginginkan', 'sekadar', 'misal', 'hendaknya', 'boleh', 'per', 'mengibaratkan', 'sebagian', 'rasa', 'baik', 'caranya', 'diinginkan', 'lamanya', 'ditanyai', 'tersebut', 'ke', 'ucapnya', 'ditunjuki', 'ungkapnya', 'dijawab', 'kapan', 'menjadi', 'mampukah', 'melihat', 'bila', 'diakhiri', 'sebutnya', 'seorang', 'sebaiknya', 'ini', 'merekalah', 'tidakkah', 'mengucapkan', 'beberapa', 'para', 'antaranya', 'tidaklah', 'berada', 'mendatang', 'demi', 'semasih', 'sekiranya', 'agar', 'diketahuinya', 'dimulai', 'cukuplah', 'dituturkannya', 'dimintai', 'soalnya', 'sejak', 'berikan', 'seterusnya', 'pasti', 'menghendaki', 'bahwasanya', 'menyebutkan', 'bakalan', 'antar', 'semakin', 'jelas', 'naik', 'begitulah', 'setempat', 'ditunjuk', 'seolah', 'berawal', 'sesekali', 'berlebihan', 'tentulah', 'diperlukannya', 'kepada', 'bukannya', 'tak', 'sebut', 'berikut', 'sambil', 'ingat', 'diantara', 'didapat', 'sendiri', 'ungkap', 'dulu', 'dalam', 'selain', 'disebutkannya', 'semula', 'setidaknya', 'terhadap', 'diminta', 'sepanjang', 'berlalu', 'dekat', 'menurut', 'mendatangi', 'aku', 'didatangkan', 'tanya', 'selama', 'pukul', 'pertama', 'kurang', 'bukankah', 'meminta', 'manakala', 'misalnya', 'terdapat', 'kalaulah', 'ujar', 'bersama', 'ditunjukkan', 'sehingga', 'sesegera', 'mirip', 'setelah', 'seluruh', 'amatlah', 'harusnya', 'sana', 'sepihak', 'andalah', 'terbanyak', 'tahun', 'semampu', 'dimaksud'}\n",
      "\n",
      "\n",
      "The stop words for french are: \n",
      " {'ayantes', 'aviez', 'aurez', 'fût', 'étais', 'fûmes', 'seraient', 'il', 'auras', 'eurent', 'eussent', 'en', 'auriez', 'du', 'aura', 'eûtes', 'serait', 'fusse', 'ont', 'aurais', 'je', 'ces', 'n', 'étants', 'ayez', 'leur', 'aies', 'aie', 'sommes', 'de', 'ils', 'soyons', 'soit', 'es', 'me', 'un', 'l', 'ne', 'est', 'soyez', 'auront', 'avions', 'sont', 'sa', 'te', 'serais', 'auraient', 'd', 'étions', 'eu', 'ayons', 'qu', 'ayant', 'à', 'fûtes', 'avons', 'serons', 'dans', 'êtes', 'sur', 'au', 'nos', 'mais', 'ayants', 'étantes', 'les', 'suis', 'étées', 'eues', 'tes', 'sera', 'notre', 't', 'on', 'serez', 'vous', 'avaient', 'eût', 's', 'que', 'nous', 'mon', 'aurai', 'seras', 'se', 'eussiez', 'ayante', 'eûmes', 'vos', 'mes', 'qui', 'par', 'eusses', 'fusses', 'eut', 'était', 'elle', 'furent', 'été', 'aient', 'votre', 'ait', 'étaient', 'toi', 'avec', 'eussions', 'ta', 'j', 'as', 'moi', 'm', 'c', 'ses', 'ai', 'eux', 'fus', 'eusse', 'aux', 'étante', 'fussent', 'soient', 'même', 'seront', 'pour', 'eus', 'avais', 'tu', 'avait', 'la', 'ma', 'seriez', 'ou', 'étant', 'et', 'fussiez', 'des', 'une', 'étiez', 'fussions', 'aurons', 'étés', 'étée', 'avez', 'lui', 'le', 'serions', 'pas', 'eue', 'y', 'sois', 'ton', 'aurions', 'serai', 'fut', 'son', 'ce', 'aurait'}\n",
      "\n",
      "\n",
      "The stop words for arabic are: \n",
      " {'دون', 'من', 'عما', 'لئن', 'وما', 'لكي', 'ثمة', 'والذي', 'إيه', 'لهم', 'أكثر', 'ذا', 'ممن', 'فإذا', 'والذين', 'لم', 'هيهات', 'إما', 'كلا', 'تلك', 'فيم', 'كما', 'ليت', 'هنالك', 'هما', 'كذلك', 'ما', 'اللتين', 'ومن', 'إي', 'بس', 'لسنا', 'عسى', 'أو', 'تي', 'الذي', 'لا', 'لسن', 'حيثما', 'كيفما', 'هلا', 'له', 'لو', 'آي', 'ذينك', 'هيا', 'الذين', 'ذواتي', 'ألا', 'إليكما', 'أف', 'أولاء', 'أوه', 'لاسيما', 'ليسوا', 'هم', 'اللذان', 'هيت', 'ذلك', 'ماذا', 'نعم', 'بكما', 'أنتما', 'التي', 'بمن', 'إلى', 'تين', 'ذه', 'بلى', 'كأي', 'ليست', 'هي', 'بي', 'ذين', 'تلكما', 'حبذا', 'اللائي', 'فلا', 'بهم', 'كي', 'لما', 'لنا', 'غير', 'أنتم', 'بعض', 'مما', 'بهن', 'كليهما', 'لك', 'فيه', 'كل', 'لعل', 'لكيلا', 'هاك', 'كليكما', 'بما', 'بها', 'ذانك', 'شتان', 'على', 'أين', 'إليكم', 'إذا', 'لوما', 'ذي', 'بين', 'إذما', 'أيها', 'تينك', 'ذواتا', 'لي', 'بعد', 'مذ', 'بماذا', 'ته', 'لدى', 'حين', 'كذا', 'بيد', 'بكم', 'ذاك', 'لهما', 'هاتي', 'يا', 'وإذا', 'بنا', 'وهو', 'اللواتي', 'نحن', 'هاته', 'حتى', 'إنه', 'عليك', 'كأين', 'إذن', 'لستما', 'حاشا', 'أولئك', 'اللاتي', 'هذان', 'إليكن', 'أن', 'هذه', 'ثم', 'كلتا', 'منذ', 'ذلكن', 'هن', 'إلا', 'حيث', 'لكنما', 'ذو', 'أنى', 'إن', 'منه', 'خلا', 'أقل', 'ولا', 'هناك', 'ذلكم', 'ولكن', 'فيها', 'هل', 'إنما', 'أينما', 'ذلكما', 'مه', 'هاتين', 'بخ', 'عليه', 'كم', 'هكذا', 'سوى', 'لهن', 'ليستا', 'هاتان', 'لها', 'سوف', 'عن', 'فيما', 'لكم', 'عند', 'بكن', 'لستن', 'كيف', 'اللتان', 'فمن', 'كلاهما', 'به', 'هذا', 'تلكم', 'لن', 'كيت', 'مع', 'آه', 'هنا', 'فإن', 'وإذ', 'ذات', 'هذي', 'أنتن', 'في', 'ها', 'لستم', 'قد', 'أنت', 'إنا', 'ليسا', 'أم', 'لست', 'وإن', 'عل', 'بهما', 'إليك', 'لكما', 'اللتيا', 'لولا', 'كلما', 'منها', 'ولو', 'إذ', 'ليس', 'بل', 'هاهنا', 'هذين', 'ريث', 'مهما', 'بك', 'أنا', 'ذوا', 'ذان', 'كأنما', 'أما', 'متى', 'هؤلاء', 'اللذين', 'أي', 'هو', 'عدا', 'نحو', 'كأن', 'لكن', 'آها'}\n",
      "\n",
      "\n",
      "The stop words for azerbaijani are: \n",
      " {'dək', 'bundan', 'dedi', 'ildə', 'isə', 'otuz', 'yenə', 'hər', 'bəli', 'biri', 'də', 'öz', 'il', 'olduğu', 'da', 'doqsan', 'bəzən', 'cı', 'buna', 'və', 'görə', 'idi', 'niyə', 'bəzi', 'istifadə', 'həm', 'olaraq', 'belə', 'yoxdur', 'arasında', 'beş', 'üç', 'düz', 'iki', 'xeyr', 'ilk', 'bir', 'siz', 'indi', 'bax', 'mirşey', 'mən', 'lakin', 'yüz', 'amma', 'dir', 'haqqında', 'mənə', 'sonra', 'olan', 'az', 'biraz', 'yəni', 'səhv', 'onların ', 'o', 'obirisi', 'iyirmi', 'özü', 'bizlər', 'etmək', 'səksən', 'sənə', 'ona', 'zaman', 'altı', 'kimə', 'sadəcə', 'dəqiqə', 'olmaz', 'bəy', 'dörd', 'etdi', 'oradan', 'olur', 'həmişə', 'təəssüf', 'nə', 'ilə', 'ki', 'bütün', 'ən', 'lap', 'ü', 'onsuzda', 'on', 'bizim', 'kim', 'ondan', 'bu', 'yetmiş', 'cu', 'daha', 'əslində', 'gilə', 'yalnız', 'edir', 'harada', 'altmış', 'a', 'çox', 'dən', 'olsun', 'bunun', 'var', 'səkkiz', 'yoxsa', 'sizlər', 'cü', 'xanım', 'ı', 'sənin', 'sizin', 'əgər', 'nəhayət', 'deyil', 'saniyə', 'faiz', 'olmadı', 'bilər', 'artıq', 'in', 'olar', 'qırx', 'yeddi', 'ay', 'bəlkə', 'onlardan', 'çünki', 'həmin', 'onlar', 'məhz', 'sən', 'əlli', 'ya', 'qarşı', 'olmuşdur', 'əlbəttə', 'heç', 'ci', 'oldu', 'qədər', 'saat', 'biz', 'üçün', 'birşey', 'onu', 'ə', 'elə', 'hə', 'et', 'bunların', 'kimi', 'ha', 'doqquz', 'onun', 'xan', 'yox', 'buradan', 'ad', 'edən', 'etmə', 'yaxşı', 'bunu', 'of'}\n",
      "\n",
      "\n",
      "The stop words for danish are: \n",
      " {'ud', 'at', 'han', 'været', 'ham', 'meget', 'der', 'da', 'en', 'vi', 'noget', 'nu', 'du', 'jeg', 'os', 'hvor', 'på', 'hvis', 'med', 'skulle', 'de', 'under', 'mod', 'anden', 'af', 'thi', 'sig', 'eller', 'nogle', 'sin', 'har', 'skal', 'være', 'denne', 'i', 'efter', 'dem', 'mig', 'fra', 'sine', 'sådan', 'over', 'vor', 'som', 'man', 'er', 'hun', 'ind', 'selv', 'ikke', 'for', 'men', 'ville', 'hans', 'ned', 'have', 'hende', 'kunne', 'jo', 'og', 'hvad', 'alle', 'vil', 'var', 'blive', 'mit', 'disse', 'den', 'mine', 'her', 'det', 'hos', 'også', 'jer', 'når', 'dog', 'hendes', 'alt', 'dette', 'bliver', 'dig', 'et', 'end', 'blev', 'om', 'mange', 'til', 'din', 'min', 'ad', 'op', 'sit', 'havde', 'deres'}\n",
      "\n",
      "\n",
      "The stop words for dutch are: \n",
      " {'zonder', 'iets', 'haar', 'doch', 'der', 'wie', 'en', 'hier', 'iemand', 'voor', 'waren', 'nu', 'wezen', 'je', 'kan', 'hij', 'dit', 'veel', 'u', 'een', 'de', 'zelf', 'dat', 'hem', 'reeds', 'me', 'kon', 'wil', 'niet', 'bij', 'ja', 'te', 'wat', 'altijd', 'ook', 'heb', 'doen', 'ge', 'had', 'met', 'naar', 'meer', 'eens', 'door', 'daar', 'over', 'ons', 'onder', 'als', 'er', 'uit', 'hun', 'omdat', 'zich', 'hoe', 'is', 'mijn', 'kunnen', 'tegen', 'andere', 'men', 'zo', 'ik', 'ze', 'toen', 'moet', 'dus', 'maar', 'alles', 'al', 'uw', 'geweest', 'mij', 'niets', 'na', 'want', 'in', 'toch', 'zijn', 'deze', 'wordt', 'werd', 'zou', 'het', 'dan', 'tot', 'ben', 'die', 'van', 'hebben', 'zal', 'om', 'worden', 'aan', 'zij', 'was', 'heeft', 'nog', 'geen', 'op', 'of'}\n",
      "\n",
      "\n"
     ]
    }
   ],
   "source": [
    "for l in languages:\n",
    "    l_stopwords = set(stopwords.words(l))\n",
    "    print (f\"The stop words for {l} are: \\n { l_stopwords }\\n\\n\")"
   ]
  },
  {
   "cell_type": "code",
   "execution_count": null,
   "metadata": {},
   "outputs": [],
   "source": [
    "DELE"
   ]
  },
  {
   "cell_type": "markdown",
   "metadata": {},
   "source": [
    "####  Reduce to small case and unncessary punctuations"
   ]
  },
  {
   "cell_type": "code",
   "execution_count": 97,
   "metadata": {
    "scrolled": true
   },
   "outputs": [],
   "source": [
    "my_text = \"\"\"Open a bank account. The nearest DBS Bank is besides \n",
    "the river bank. On your way there, you may wish to donate some blood \n",
    "at the nearby blood bank. Will you be willing to donate? \n",
    "It is open from 9:00 a.m to 4:00 p.m.\"\"\""
   ]
  },
  {
   "cell_type": "code",
   "execution_count": 98,
   "metadata": {},
   "outputs": [],
   "source": [
    "tokens = word_tokenize(my_text)"
   ]
  },
  {
   "cell_type": "code",
   "execution_count": 100,
   "metadata": {},
   "outputs": [],
   "source": [
    "tokens_no_punctuation = []\n",
    "for t in tokens:\n",
    "    if not(t in string.punctuation):\n",
    "        tokens_no_punctuation.append(t.lower())  "
   ]
  },
  {
   "cell_type": "code",
   "execution_count": 101,
   "metadata": {
    "scrolled": true
   },
   "outputs": [
    {
     "name": "stdout",
     "output_type": "stream",
     "text": [
      "['open', 'a', 'bank', 'account', 'the', 'nearest', 'dbs', 'bank', 'is', 'besides', 'the', 'river', 'bank', 'on', 'your', 'way', 'there', 'you', 'may', 'wish', 'to', 'donate', 'some', 'blood', 'at', 'the', 'nearby', 'blood', 'bank', 'will', 'you', 'be', 'willing', 'to', 'donate', 'it', 'is', 'open', 'from', '9:00', 'a.m', 'to', '4:00', 'p.m']\n"
     ]
    }
   ],
   "source": [
    "print (tokens_no_punctuation)"
   ]
  },
  {
   "cell_type": "code",
   "execution_count": null,
   "metadata": {},
   "outputs": [],
   "source": []
  }
 ],
 "metadata": {
  "kernelspec": {
   "display_name": "Python 3",
   "language": "python",
   "name": "python3"
  },
  "language_info": {
   "codemirror_mode": {
    "name": "ipython",
    "version": 3
   },
   "file_extension": ".py",
   "mimetype": "text/x-python",
   "name": "python",
   "nbconvert_exporter": "python",
   "pygments_lexer": "ipython3",
   "version": "3.6.7"
  }
 },
 "nbformat": 4,
 "nbformat_minor": 2
}
