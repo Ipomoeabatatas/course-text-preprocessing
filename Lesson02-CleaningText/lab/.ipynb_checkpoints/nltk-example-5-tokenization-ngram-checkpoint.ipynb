{
 "cells": [
  {
   "cell_type": "markdown",
   "metadata": {},
   "source": [
    "## Text Preprocessing \n",
    "\n",
    "#### N-gram Tokenization"
   ]
  },
  {
   "cell_type": "code",
   "execution_count": 14,
   "metadata": {},
   "outputs": [],
   "source": [
    "import nltk\n",
    "from nltk.tokenize import word_tokenize\n",
    "from nltk.tokenize import sent_tokenize\n",
    "from nltk.tokenize import RegexpTokenizer\n",
    "from nltk.util import ngrams\n",
    "from nltk.corpus import stopwords\n",
    "import pandas as pd\n",
    "import re \n",
    "import string"
   ]
  },
  {
   "cell_type": "markdown",
   "metadata": {},
   "source": [
    "#### Tokenize from text  to words to bi-grams"
   ]
  },
  {
   "cell_type": "code",
   "execution_count": 15,
   "metadata": {
    "scrolled": true
   },
   "outputs": [],
   "source": [
    "my_text = \"\"\"Open a bank account. The nearest one is beside the river bank. \n",
    "On your way there, you may wish to donate some blood at the nearby blood bank.\"\"\""
   ]
  },
  {
   "cell_type": "code",
   "execution_count": 16,
   "metadata": {},
   "outputs": [],
   "source": [
    "words = word_tokenize(my_text)\n",
    "bigrams = list(ngrams(words,2))"
   ]
  },
  {
   "cell_type": "code",
   "execution_count": 17,
   "metadata": {
    "scrolled": true
   },
   "outputs": [
    {
     "name": "stdout",
     "output_type": "stream",
     "text": [
      "[('Open', 'a'), ('a', 'bank'), ('bank', 'account'), ('account', '.'), ('.', 'The'), ('The', 'nearest'), ('nearest', 'one'), ('one', 'is'), ('is', 'beside'), ('beside', 'the'), ('the', 'river'), ('river', 'bank'), ('bank', '.'), ('.', 'On'), ('On', 'your'), ('your', 'way'), ('way', 'there'), ('there', ','), (',', 'you'), ('you', 'may'), ('may', 'wish'), ('wish', 'to'), ('to', 'donate'), ('donate', 'some'), ('some', 'blood'), ('blood', 'at'), ('at', 'the'), ('the', 'nearby'), ('nearby', 'blood'), ('blood', 'bank'), ('bank', '.')]\n"
     ]
    }
   ],
   "source": [
    "print (bigrams)"
   ]
  },
  {
   "cell_type": "code",
   "execution_count": 18,
   "metadata": {},
   "outputs": [],
   "source": [
    "## shorter form: bigrams = list(ngrams(word_tokenize(my_text),2))"
   ]
  },
  {
   "cell_type": "code",
   "execution_count": 19,
   "metadata": {},
   "outputs": [],
   "source": [
    "## Delete everything below"
   ]
  },
  {
   "cell_type": "code",
   "execution_count": null,
   "metadata": {},
   "outputs": [],
   "source": []
  },
  {
   "cell_type": "code",
   "execution_count": null,
   "metadata": {},
   "outputs": [],
   "source": []
  },
  {
   "cell_type": "code",
   "execution_count": null,
   "metadata": {},
   "outputs": [],
   "source": []
  }
 ],
 "metadata": {
  "kernelspec": {
   "display_name": "Python 3",
   "language": "python",
   "name": "python3"
  },
  "language_info": {
   "codemirror_mode": {
    "name": "ipython",
    "version": 3
   },
   "file_extension": ".py",
   "mimetype": "text/x-python",
   "name": "python",
   "nbconvert_exporter": "python",
   "pygments_lexer": "ipython3",
   "version": "3.6.7"
  }
 },
 "nbformat": 4,
 "nbformat_minor": 2
}
