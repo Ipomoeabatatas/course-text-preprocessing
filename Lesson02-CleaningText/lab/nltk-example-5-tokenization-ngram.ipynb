{
 "cells": [
  {
   "cell_type": "markdown",
   "metadata": {},
   "source": [
    "## Text Preprocessing \n",
    "\n",
    "#### N-gram Tokenization"
   ]
  },
  {
   "cell_type": "code",
   "execution_count": 1,
   "metadata": {},
   "outputs": [],
   "source": [
    "import nltk\n",
    "from nltk.tokenize import word_tokenize\n",
    "from nltk.tokenize import sent_tokenize\n",
    "from nltk.tokenize import RegexpTokenizer\n",
    "from nltk.util import ngrams\n",
    "from nltk.corpus import stopwords\n",
    "import pandas as pd\n",
    "import re \n",
    "import string"
   ]
  },
  {
   "cell_type": "markdown",
   "metadata": {},
   "source": [
    "#### Tokenize from text  to words to bi-grams"
   ]
  },
  {
   "cell_type": "code",
   "execution_count": 2,
   "metadata": {
    "scrolled": true
   },
   "outputs": [],
   "source": [
    "my_text = \"\"\"Open a bank account. The nearest one is beside the river bank. \n",
    "On your way there, you may wish to donate some blood at the nearby blood bank.\"\"\""
   ]
  },
  {
   "cell_type": "code",
   "execution_count": 3,
   "metadata": {},
   "outputs": [],
   "source": [
    "words = word_tokenize(my_text)\n",
    "bigrams = list(ngrams(words,2))"
   ]
  },
  {
   "cell_type": "code",
   "execution_count": 4,
   "metadata": {
    "scrolled": true
   },
   "outputs": [
    {
     "name": "stdout",
     "output_type": "stream",
     "text": [
      "[('Open', 'a'), ('a', 'bank'), ('bank', 'account'), ('account', '.'), ('.', 'The'), ('The', 'nearest'), ('nearest', 'one'), ('one', 'is'), ('is', 'beside'), ('beside', 'the'), ('the', 'river'), ('river', 'bank'), ('bank', '.'), ('.', 'On'), ('On', 'your'), ('your', 'way'), ('way', 'there'), ('there', ','), (',', 'you'), ('you', 'may'), ('may', 'wish'), ('wish', 'to'), ('to', 'donate'), ('donate', 'some'), ('some', 'blood'), ('blood', 'at'), ('at', 'the'), ('the', 'nearby'), ('nearby', 'blood'), ('blood', 'bank'), ('bank', '.')]\n"
     ]
    }
   ],
   "source": [
    "print (bigrams)"
   ]
  },
  {
   "cell_type": "code",
   "execution_count": 6,
   "metadata": {},
   "outputs": [
    {
     "name": "stdout",
     "output_type": "stream",
     "text": [
      "[('Open', 'a'), ('a', 'bank'), ('bank', 'account'), ('account', '.'), ('.', 'The'), ('The', 'nearest'), ('nearest', 'one'), ('one', 'is'), ('is', 'beside'), ('beside', 'the'), ('the', 'river'), ('river', 'bank'), ('bank', '.'), ('.', 'On'), ('On', 'your'), ('your', 'way'), ('way', 'there'), ('there', ','), (',', 'you'), ('you', 'may'), ('may', 'wish'), ('wish', 'to'), ('to', 'donate'), ('donate', 'some'), ('some', 'blood'), ('blood', 'at'), ('at', 'the'), ('the', 'nearby'), ('nearby', 'blood'), ('blood', 'bank'), ('bank', '.')]\n"
     ]
    }
   ],
   "source": [
    "bigrams = list(ngrams(word_tokenize(my_text),2))\n",
    "print (bigrams)"
   ]
  },
  {
   "cell_type": "code",
   "execution_count": 6,
   "metadata": {},
   "outputs": [],
   "source": [
    "## Delete everything below"
   ]
  },
  {
   "cell_type": "code",
   "execution_count": 7,
   "metadata": {},
   "outputs": [],
   "source": [
    "trigrams = list(ngrams(words,3))"
   ]
  },
  {
   "cell_type": "code",
   "execution_count": 8,
   "metadata": {},
   "outputs": [
    {
     "name": "stdout",
     "output_type": "stream",
     "text": [
      "[('Open', 'a', 'bank'), ('a', 'bank', 'account'), ('bank', 'account', '.'), ('account', '.', 'The'), ('.', 'The', 'nearest'), ('The', 'nearest', 'one'), ('nearest', 'one', 'is'), ('one', 'is', 'beside'), ('is', 'beside', 'the'), ('beside', 'the', 'river'), ('the', 'river', 'bank'), ('river', 'bank', '.'), ('bank', '.', 'On'), ('.', 'On', 'your'), ('On', 'your', 'way'), ('your', 'way', 'there'), ('way', 'there', ','), ('there', ',', 'you'), (',', 'you', 'may'), ('you', 'may', 'wish'), ('may', 'wish', 'to'), ('wish', 'to', 'donate'), ('to', 'donate', 'some'), ('donate', 'some', 'blood'), ('some', 'blood', 'at'), ('blood', 'at', 'the'), ('at', 'the', 'nearby'), ('the', 'nearby', 'blood'), ('nearby', 'blood', 'bank'), ('blood', 'bank', '.')]\n"
     ]
    }
   ],
   "source": [
    "print (trigrams)"
   ]
  },
  {
   "cell_type": "code",
   "execution_count": null,
   "metadata": {},
   "outputs": [],
   "source": []
  }
 ],
 "metadata": {
  "kernelspec": {
   "display_name": "Python 3",
   "language": "python",
   "name": "python3"
  },
  "language_info": {
   "codemirror_mode": {
    "name": "ipython",
    "version": 3
   },
   "file_extension": ".py",
   "mimetype": "text/x-python",
   "name": "python",
   "nbconvert_exporter": "python",
   "pygments_lexer": "ipython3",
   "version": "3.6.7"
  }
 },
 "nbformat": 4,
 "nbformat_minor": 2
}
