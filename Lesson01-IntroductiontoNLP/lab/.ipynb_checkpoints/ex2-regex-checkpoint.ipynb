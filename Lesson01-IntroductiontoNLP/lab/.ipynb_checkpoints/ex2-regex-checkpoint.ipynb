{
 "cells": [
  {
   "cell_type": "markdown",
   "metadata": {},
   "source": [
    "### Exercise on Regular Expression\n"
   ]
  },
  {
   "cell_type": "markdown",
   "metadata": {},
   "source": [
    "###  Import re"
   ]
  },
  {
   "cell_type": "code",
   "execution_count": 10,
   "metadata": {},
   "outputs": [],
   "source": [
    "import re"
   ]
  },
  {
   "cell_type": "code",
   "execution_count": 13,
   "metadata": {
    "scrolled": true
   },
   "outputs": [
    {
     "name": "stdout",
     "output_type": "stream",
     "text": [
      "['A', 'ASCII', 'DEBUG', 'DOTALL', 'I', 'IGNORECASE', 'L', 'LOCALE', 'M', 'MULTILINE', 'RegexFlag', 'S', 'Scanner', 'T', 'TEMPLATE', 'U', 'UNICODE', 'VERBOSE', 'X', '_MAXCACHE', '__all__', '__builtins__', '__cached__', '__doc__', '__file__', '__loader__', '__name__', '__package__', '__spec__', '__version__', '_alphanum_bytes', '_alphanum_str', '_cache', '_compile', '_compile_repl', '_expand', '_locale', '_pattern_type', '_pickle', '_subx', 'compile', 'copyreg', 'enum', 'error', 'escape', 'findall', 'finditer', 'fullmatch', 'functools', 'match', 'purge', 'search', 'split', 'sre_compile', 'sre_parse', 'sub', 'subn', 'template']\n"
     ]
    }
   ],
   "source": [
    "print(dir(re))"
   ]
  },
  {
   "cell_type": "markdown",
   "metadata": {},
   "source": [
    "##### We are interested in only the methods search, split, sub and compile"
   ]
  },
  {
   "cell_type": "markdown",
   "metadata": {},
   "source": [
    "\n",
    "#### Simple Example\n",
    "This example finds a pattern within a text\n",
    "Let's take a look at a simple example"
   ]
  },
  {
   "cell_type": "code",
   "execution_count": 41,
   "metadata": {
    "scrolled": true
   },
   "outputs": [
    {
     "name": "stdout",
     "output_type": "stream",
     "text": [
      "Search successful.\n"
     ]
    }
   ],
   "source": [
    "\n",
    "pattern = 'term'\n",
    "string = \"The school term starts in Jan and Jun every year\"\n",
    "\n",
    "result = re.search(pattern, string)\n",
    "if result:\n",
    "  print(\"Search successful.\")\n",
    "else:\n",
    "  print(\"Search unsuccessful.\")\n",
    "\n"
   ]
  },
  {
   "cell_type": "markdown",
   "metadata": {},
   "source": [
    "#### let's take a look at the match object result"
   ]
  },
  {
   "cell_type": "code",
   "execution_count": 42,
   "metadata": {
    "scrolled": true
   },
   "outputs": [
    {
     "name": "stdout",
     "output_type": "stream",
     "text": [
      "<_sre.SRE_Match object; span=(11, 15), match='term'>\n",
      "The school term starts in Jan and Jun every year\n"
     ]
    }
   ],
   "source": [
    "print(result)\n",
    "print(result.string)"
   ]
  },
  {
   "cell_type": "markdown",
   "metadata": {},
   "source": [
    "#### Simple  and Negative Example\n",
    "This example is not expected to find a pattern within a string\n",
    "The reason is that the regular expression pattern is by default case sensitive.\n",
    "In this case, the match object is a null"
   ]
  },
  {
   "cell_type": "code",
   "execution_count": 43,
   "metadata": {},
   "outputs": [
    {
     "name": "stdout",
     "output_type": "stream",
     "text": [
      "Search unsuccessful.\n"
     ]
    }
   ],
   "source": [
    "\n",
    "pattern = 'TERM'\n",
    "string = \"The school term starts in Jan and Jun every year\"\n",
    "\n",
    "result = re.search(pattern, string)\n",
    "if result:\n",
    "  print(\"Search successful.\")\n",
    "else:\n",
    "  print(\"Search unsuccessful.\")"
   ]
  },
  {
   "cell_type": "code",
   "execution_count": 39,
   "metadata": {},
   "outputs": [
    {
     "name": "stdout",
     "output_type": "stream",
     "text": [
      "None\n"
     ]
    }
   ],
   "source": [
    "print(result)"
   ]
  },
  {
   "cell_type": "markdown",
   "metadata": {},
   "source": [
    "#### A slightly more complex example\n",
    "\n",
    "In the previous example, the search fails because by default RE is case sensitive.\n",
    "Some methods allows the use of flags to override the defaults.\n",
    "\n",
    "So, we pass in the flags parameter into the method"
   ]
  },
  {
   "cell_type": "code",
   "execution_count": 44,
   "metadata": {},
   "outputs": [
    {
     "name": "stdout",
     "output_type": "stream",
     "text": [
      "Search successful.\n"
     ]
    }
   ],
   "source": [
    "pattern = 'TERM'\n",
    "string = \"The school term starts in Jan and Jun every year\"\n",
    "\n",
    "result = re.search(pattern, string, flags=re.IGNORECASE)\n",
    "if result:\n",
    "  print(\"Search successful.\")\n",
    "else:\n",
    "  print(\"Search unsuccessful.\")\n"
   ]
  },
  {
   "cell_type": "markdown",
   "metadata": {},
   "source": [
    "#### Alternative method to compile the expression "
   ]
  },
  {
   "cell_type": "code",
   "execution_count": 10,
   "metadata": {},
   "outputs": [
    {
     "name": "stdout",
     "output_type": "stream",
     "text": [
      "search successful.\n"
     ]
    }
   ],
   "source": [
    "import re\n",
    "\n",
    "pattern = 'term'\n",
    "string = \"The school term starts in Jan and Jun every year\"\n",
    "compile_pattern = re.compile(pattern)\n",
    "\n",
    "result = compile_pattern.search(string)\n",
    "if result:\n",
    "  print(\"search successful.\")\n",
    "else:\n",
    "  print(\"search unsuccessful.\")\n"
   ]
  },
  {
   "cell_type": "markdown",
   "metadata": {},
   "source": [
    "### Matching for occurance at the start of the text"
   ]
  },
  {
   "cell_type": "code",
   "execution_count": 11,
   "metadata": {},
   "outputs": [
    {
     "name": "stdout",
     "output_type": "stream",
     "text": [
      "Match unsuccessful.\n"
     ]
    }
   ],
   "source": [
    "import re\n",
    "\n",
    "pattern = 'term'\n",
    "string = \"The school term starts in Jan and Jun every year\"\n",
    "compile_pattern = re.compile(pattern)\n",
    "\n",
    "result = compile_pattern.match(string)\n",
    "if result:\n",
    "  print(\"Match successful.\")\n",
    "else:\n",
    "  print(\"Match unsuccessful.\")\n"
   ]
  },
  {
   "cell_type": "markdown",
   "metadata": {},
   "source": [
    "Using the match method"
   ]
  },
  {
   "cell_type": "markdown",
   "metadata": {},
   "source": [
    "### Question 1: \n",
    "- Repeat the prior step to search  for an expression anywhere in the text.\n",
    "- This time, use the compiled expresson instead"
   ]
  },
  {
   "cell_type": "code",
   "execution_count": 8,
   "metadata": {},
   "outputs": [],
   "source": [
    "# Enter your codes here"
   ]
  },
  {
   "cell_type": "markdown",
   "metadata": {},
   "source": [
    "### Replacing strings in a text"
   ]
  },
  {
   "cell_type": "code",
   "execution_count": 15,
   "metadata": {},
   "outputs": [
    {
     "data": {
      "text/plain": [
       "'The school semester starts in Jan and Jun every year. The semester ends in Apr and Nov'"
      ]
     },
     "execution_count": 15,
     "metadata": {},
     "output_type": "execute_result"
    }
   ],
   "source": [
    "import re\n",
    "string = \"The school term starts in Jan and Jun every year. The term ends in Apr and Nov\"\n",
    "pattern = 'term'\n",
    "repl = 'semester'\n",
    "#compile_pattern.sub(repl, string)\n",
    "re.sub(pattern, repl, string)"
   ]
  },
  {
   "cell_type": "markdown",
   "metadata": {},
   "source": [
    "\n",
    "- We can alternatively use the compiled expression and the object method to get the samne results"
   ]
  },
  {
   "cell_type": "code",
   "execution_count": 31,
   "metadata": {},
   "outputs": [
    {
     "data": {
      "text/plain": [
       "'The school semester starts in Jan and Jun every year. The semester ends in Apr and Nov'"
      ]
     },
     "execution_count": 31,
     "metadata": {},
     "output_type": "execute_result"
    }
   ],
   "source": [
    "import re\n",
    "\n",
    "pattern = 'term'\n",
    "compile_pattern = re.compile(pattern)\n",
    "string = \"The school term starts in Jan and Jun every year. The term ends in Apr and Nov\"\n",
    "repl = 'semester'\n",
    "compile_pattern.sub(repl, string)"
   ]
  },
  {
   "cell_type": "markdown",
   "metadata": {},
   "source": [
    "### Question 2:\n",
    "- Given the string \"This boy was happy because he ate the cake. Another boy cried because his cake was eaten by someone else\", replace all occurences of boy with girl\n"
   ]
  },
  {
   "cell_type": "code",
   "execution_count": 4,
   "metadata": {},
   "outputs": [],
   "source": [
    "# Enter your codes here\n",
    "\n"
   ]
  },
  {
   "cell_type": "markdown",
   "metadata": {},
   "source": [
    "### Splitting a long document using a delimiter\n",
    "When working with text data, it is very common to receive text files that are semi-structure.\n",
    "In the example below, we assume that each unique document is delimited by #"
   ]
  },
  {
   "cell_type": "code",
   "execution_count": 10,
   "metadata": {},
   "outputs": [
    {
     "data": {
      "text/plain": [
       "['The school term starts in Jan ',\n",
       " 'The term ends in Apr and Nov.',\n",
       " 'School is fun']"
      ]
     },
     "execution_count": 10,
     "metadata": {},
     "output_type": "execute_result"
    }
   ],
   "source": [
    "import re\n",
    "\n",
    "pattern = '#'\n",
    "string = \"The school term starts in Jan #The term ends in Apr and Nov.#School is fun\"\n",
    "\n",
    "re.split(pattern, string)"
   ]
  },
  {
   "cell_type": "markdown",
   "metadata": {},
   "source": [
    "### Optional Discussion Question :\n",
    "The file fradulent_emails.txt in the data folder contains email that are send to victims of fraud.\n",
    "It is semi-structure. \n",
    "Use the $more filename command to preview the file.\n",
    "If you need to split the contents by individual emails what are possible expression that you can use?\n",
    "\n",
    "\n"
   ]
  },
  {
   "cell_type": "code",
   "execution_count": null,
   "metadata": {},
   "outputs": [],
   "source": [
    "# Write your answer here\n"
   ]
  },
  {
   "cell_type": "markdown",
   "metadata": {},
   "source": [
    "### To extact the words containing an expression"
   ]
  },
  {
   "cell_type": "code",
   "execution_count": 19,
   "metadata": {},
   "outputs": [
    {
     "name": "stdout",
     "output_type": "stream",
     "text": [
      "['alice@google.com', 'bob@abc.com']\n"
     ]
    }
   ],
   "source": [
    "    \n",
    "str = 'purple alice@google.com, blah monkey bob@abc.com blah dishwasher'\n",
    "pattern = '[\\w\\.-]+@[\\w\\.-]+'\n",
    "\n",
    "emails = re.findall(pattern, str) \n",
    "print (emails)\n"
   ]
  },
  {
   "cell_type": "markdown",
   "metadata": {},
   "source": [
    "### Question 4 :\n",
    "Given the string 'call 1800-HELPTLA or 1800-6541234 to report a road damage', print out the phone numbers in there\n"
   ]
  },
  {
   "cell_type": "code",
   "execution_count": 11,
   "metadata": {},
   "outputs": [],
   "source": [
    "# Enter your answer here"
   ]
  },
  {
   "cell_type": "code",
   "execution_count": null,
   "metadata": {},
   "outputs": [],
   "source": []
  }
 ],
 "metadata": {
  "kernelspec": {
   "display_name": "Python 3",
   "language": "python",
   "name": "python3"
  },
  "language_info": {
   "codemirror_mode": {
    "name": "ipython",
    "version": 3
   },
   "file_extension": ".py",
   "mimetype": "text/x-python",
   "name": "python",
   "nbconvert_exporter": "python",
   "pygments_lexer": "ipython3",
   "version": "3.6.7"
  }
 },
 "nbformat": 4,
 "nbformat_minor": 2
}
