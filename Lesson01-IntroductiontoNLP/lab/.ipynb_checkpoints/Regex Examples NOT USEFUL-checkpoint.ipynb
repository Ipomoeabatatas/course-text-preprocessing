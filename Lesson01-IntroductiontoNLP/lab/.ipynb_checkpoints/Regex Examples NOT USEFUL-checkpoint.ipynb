{
 "cells": [
  {
   "cell_type": "markdown",
   "metadata": {},
   "source": [
    "# Basic\n"
   ]
  },
  {
   "cell_type": "code",
   "execution_count": null,
   "metadata": {},
   "outputs": [],
   "source": []
  },
  {
   "cell_type": "code",
   "execution_count": 1,
   "metadata": {
    "scrolled": false
   },
   "outputs": [
    {
     "data": {
      "text/plain": [
       "['home', 'home']"
      ]
     },
     "execution_count": 1,
     "metadata": {},
     "output_type": "execute_result"
    }
   ],
   "source": [
    "`\n",
    "    \n",
    "p = re.compile('home')\n",
    "text = ' I go to homefix to buy diy stuff to repair broken things in my home'\n",
    "\n",
    "p.findall(text)\n"
   ]
  },
  {
   "cell_type": "code",
   "execution_count": 16,
   "metadata": {},
   "outputs": [
    {
     "data": {
      "text/plain": [
       "<_sre.SRE_Match object; span=(9, 13), match='home'>"
      ]
     },
     "execution_count": 16,
     "metadata": {},
     "output_type": "execute_result"
    }
   ],
   "source": [
    "p.search(text)\n"
   ]
  },
  {
   "cell_type": "code",
   "execution_count": 19,
   "metadata": {},
   "outputs": [
    {
     "name": "stdout",
     "output_type": "stream",
     "text": [
      " I go to fishfix to buy diy stuff to repair broken things in my fish\n"
     ]
    }
   ],
   "source": [
    "new_text = p.sub('fish', text)\n",
    "print (new_text)"
   ]
  },
  {
   "cell_type": "code",
   "execution_count": 23,
   "metadata": {},
   "outputs": [
    {
     "name": "stdout",
     "output_type": "stream",
     "text": [
      "[' I go to homefix to buy diy ', ' to repair broken things in my home']\n"
     ]
    }
   ],
   "source": [
    "delimiter = re.compile('stuff')\n",
    "a = delimiter.split(text)\n",
    "print (a)"
   ]
  },
  {
   "cell_type": "markdown",
   "metadata": {},
   "source": [
    "## Helper function"
   ]
  },
  {
   "cell_type": "code",
   "execution_count": 1,
   "metadata": {},
   "outputs": [],
   "source": [
    "import re\n",
    "def search_pattern_in_string(pattern, string):\n",
    "    '''\n",
    "    Returns the string from the first match of \n",
    "    `pattern` in `string`.\n",
    "    Returns \"No match\" if not found.\n",
    "    '''\n",
    "    search = re.compile(pattern).search(string)\n",
    "    if not search:\n",
    "        return \"No match\"\n",
    "    else:\n",
    "        return \"Found pattern: \" + search.group()\n",
    "        "
   ]
  },
  {
   "cell_type": "code",
   "execution_count": null,
   "metadata": {},
   "outputs": [],
   "source": []
  },
  {
   "cell_type": "markdown",
   "metadata": {},
   "source": [
    "## Finding patterns using metacharacters"
   ]
  },
  {
   "cell_type": "code",
   "execution_count": 56,
   "metadata": {
    "scrolled": true
   },
   "outputs": [
    {
     "name": "stdout",
     "output_type": "stream",
     "text": [
      "Found pattern: S\n"
     ]
    }
   ],
   "source": [
    "print(search_pattern_in_string(\".\", \"Sherlock Holmes\"))"
   ]
  },
  {
   "cell_type": "code",
   "execution_count": 57,
   "metadata": {},
   "outputs": [
    {
     "name": "stdout",
     "output_type": "stream",
     "text": [
      "Found pattern: \n",
      "Found pattern: S\n",
      "No match\n"
     ]
    }
   ],
   "source": [
    "print(search_pattern_in_string(\"^\", \"Sherlock Holmes\")) # empty string\n",
    "print(search_pattern_in_string(\"^S\", \"Sherlock Holmes\"))\n",
    "print(search_pattern_in_string(\"^e\", \"Sherlock Holmes\"))"
   ]
  },
  {
   "cell_type": "code",
   "execution_count": 58,
   "metadata": {
    "scrolled": true
   },
   "outputs": [
    {
     "name": "stdout",
     "output_type": "stream",
     "text": [
      "Found pattern: \n",
      "Found pattern: s\n",
      "No match\n"
     ]
    }
   ],
   "source": [
    "print(search_pattern_in_string(\"$\", \"Sherlock Holmes\")) # empty string\n",
    "print(search_pattern_in_string(\"s$\", \"Sherlock Holmes\"))\n",
    "print(search_pattern_in_string(\"t$\", \"Sherlock Holmes\"))"
   ]
  },
  {
   "cell_type": "code",
   "execution_count": 59,
   "metadata": {},
   "outputs": [
    {
     "name": "stdout",
     "output_type": "stream",
     "text": [
      "Found pattern: \n",
      "Found pattern: S\n"
     ]
    }
   ],
   "source": [
    "print(search_pattern_in_string(\"l*\", \"Sherlock Holmes\")) # empty string\n",
    "print(search_pattern_in_string(\"S*\", \"Sherlock Holmes\"))"
   ]
  },
  {
   "cell_type": "code",
   "execution_count": 60,
   "metadata": {},
   "outputs": [
    {
     "name": "stdout",
     "output_type": "stream",
     "text": [
      "Found pattern: \n",
      "No match\n",
      "Found pattern: S\n"
     ]
    }
   ],
   "source": [
    "print(search_pattern_in_string(\"z*\", \"Sherlock Holmes\")) # empty string\n",
    "print(search_pattern_in_string(\"z+\", \"Sherlock Holmes\"))\n",
    "print(search_pattern_in_string(\"S+\", \"Sherlock Holmes\"))"
   ]
  },
  {
   "cell_type": "code",
   "execution_count": 61,
   "metadata": {
    "scrolled": true
   },
   "outputs": [
    {
     "name": "stdout",
     "output_type": "stream",
     "text": [
      "Found pattern: Sh\n"
     ]
    }
   ],
   "source": [
    "print(search_pattern_in_string(\"S3?h\", \"Sherlock Holmes\")) # '3' is optional"
   ]
  },
  {
   "cell_type": "code",
   "execution_count": 85,
   "metadata": {},
   "outputs": [
    {
     "name": "stdout",
     "output_type": "stream",
     "text": [
      "Found pattern: 22\n",
      "No match\n"
     ]
    }
   ],
   "source": [
    "print(search_pattern_in_string(\"2{1,3}\", \"221B Baker Street, London\"))\n",
    "print(search_pattern_in_string(\"2{3,4}\", \"221B Baker Street, London\"))"
   ]
  },
  {
   "cell_type": "code",
   "execution_count": 69,
   "metadata": {
    "scrolled": true
   },
   "outputs": [
    {
     "name": "stdout",
     "output_type": "stream",
     "text": [
      "Found pattern: k\n"
     ]
    }
   ],
   "source": [
    "print(search_pattern_in_string(\"[ik]\", \"221B Baker Street, London\"))"
   ]
  },
  {
   "cell_type": "code",
   "execution_count": 88,
   "metadata": {},
   "outputs": [
    {
     "name": "stdout",
     "output_type": "stream",
     "text": [
      "Found pattern: ?\n"
     ]
    }
   ],
   "source": [
    "string = \"Is there any other point to which you would wish to draw my attention?\"\n",
    "# print(search_pattern_in_string(\"?\", string)) # would error\n",
    "print(search_pattern_in_string(\"\\?\", string)) # error"
   ]
  },
  {
   "cell_type": "code",
   "execution_count": 71,
   "metadata": {},
   "outputs": [
    {
     "name": "stdout",
     "output_type": "stream",
     "text": [
      "Found pattern: ,\n"
     ]
    }
   ],
   "source": [
    "print(search_pattern_in_string(\",\", \"221B Baker Street, London\"))"
   ]
  },
  {
   "cell_type": "code",
   "execution_count": 72,
   "metadata": {},
   "outputs": [
    {
     "name": "stdout",
     "output_type": "stream",
     "text": [
      "Found pattern: k\n"
     ]
    }
   ],
   "source": [
    "print(search_pattern_in_string(\"z|k\", \"221B Baker Street, London\"))"
   ]
  },
  {
   "cell_type": "markdown",
   "metadata": {},
   "source": [
    "## Groups"
   ]
  },
  {
   "cell_type": "code",
   "execution_count": 77,
   "metadata": {},
   "outputs": [
    {
     "name": "stdout",
     "output_type": "stream",
     "text": [
      "Found pattern: 221B Baker Street\n"
     ]
    }
   ],
   "source": [
    "print(search_pattern_in_string(\"(\\d+\\w*) ([A-Z]{1}[a-z]+ [A-Z]{1}[a-z]+)\", \"221B Baker Street, London\"))"
   ]
  },
  {
   "cell_type": "code",
   "execution_count": 83,
   "metadata": {
    "scrolled": true
   },
   "outputs": [
    {
     "name": "stdout",
     "output_type": "stream",
     "text": [
      "221B Baker Street\n",
      "221B\n",
      "Baker Street\n"
     ]
    }
   ],
   "source": [
    "pattern = \"(\\d+\\w*)\\s+([A-Z]{1}\\w+\\s+[A-Z]{1}\\w+)\"\n",
    "p = re.compile(pattern)\n",
    "m = p.match(\"221B Baker Street, London\")\n",
    "print(m.group(0)) # entire address\n",
    "print(m.group(1)) # first part of address\n",
    "print(m.group(2)) # second part of address"
   ]
  },
  {
   "cell_type": "code",
   "execution_count": 5,
   "metadata": {},
   "outputs": [
    {
     "name": "stdout",
     "output_type": "stream",
     "text": [
      "<_sre.SRE_Match object; span=(11, 15), match='term'>\n",
      "Match is successful\n"
     ]
    }
   ],
   "source": [
    "import re\n",
    "\n",
    "pattern = 'term'\n",
    "string = 'The school term starts in Jan and Jun every year'\n",
    "\n",
    "result = re.search(pattern, string)\n",
    "print(re.search(pattern, string))\n",
    "if result:\n",
    "    print ('Match is successful')\n",
    "else:\n",
    "    print ('Match is not successful')"
   ]
  },
  {
   "cell_type": "code",
   "execution_count": null,
   "metadata": {},
   "outputs": [],
   "source": []
  }
 ],
 "metadata": {
  "kernelspec": {
   "display_name": "Python 3",
   "language": "python",
   "name": "python3"
  },
  "language_info": {
   "codemirror_mode": {
    "name": "ipython",
    "version": 3
   },
   "file_extension": ".py",
   "mimetype": "text/x-python",
   "name": "python",
   "nbconvert_exporter": "python",
   "pygments_lexer": "ipython3",
   "version": "3.7.1"
  }
 },
 "nbformat": 4,
 "nbformat_minor": 2
}
