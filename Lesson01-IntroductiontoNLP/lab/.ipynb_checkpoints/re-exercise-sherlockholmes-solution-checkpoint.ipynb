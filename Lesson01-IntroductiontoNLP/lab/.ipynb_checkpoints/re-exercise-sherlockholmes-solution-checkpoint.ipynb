{
 "cells": [
  {
   "cell_type": "markdown",
   "metadata": {},
   "source": [
    "# Regular Expressions Exercise\n",
    "\n",
    "Acknowledgement: This notebook is provided by Intel AI Developer Program\n",
    "\n",
    "#### Introduction\n",
    "\n",
    "Lets download the complete works of Sherlock Holmes and do some detective work using regular expression.\n",
    "\n",
    "For many of these exercises it is helpful to compile a regular expression p and then use p.findall() followed by some additional simple python processing to answer the questions\n"
   ]
  },
  {
   "cell_type": "code",
   "execution_count": 14,
   "metadata": {},
   "outputs": [],
   "source": [
    "import re"
   ]
  },
  {
   "cell_type": "code",
   "execution_count": 15,
   "metadata": {},
   "outputs": [],
   "source": [
    "# for linux and mac, uncomment and run the following line:\n",
    "# !wget https://sherlock-holm.es/stories/plain-text/cnus.txt\n",
    "# for windows, use your browser to download txt file and place in working directory"
   ]
  },
  {
   "cell_type": "code",
   "execution_count": 16,
   "metadata": {},
   "outputs": [],
   "source": [
    "text = ''\n",
    "with open('./data/cnus.txt','r', encoding='utf-8') as f:\n",
    "    text = \" \".join([l.strip() for l in f.readlines()])"
   ]
  },
  {
   "cell_type": "code",
   "execution_count": 17,
   "metadata": {},
   "outputs": [
    {
     "data": {
      "text/plain": [
       "\"On landing at Bombay, I learned that my corps had advanced through the passes, and was already deep in the enemy's country. I followed, however, with many other officers who were in the same situation as myself, and succeeded in reaching Candahar in safety, where I found my regiment, and at once entered upon my new duties.  The campaign brought honours and promotion to many, but for me \""
      ]
     },
     "execution_count": 17,
     "metadata": {},
     "output_type": "execute_result"
    }
   ],
   "source": [
    "text[2611:3000]"
   ]
  },
  {
   "cell_type": "markdown",
   "metadata": {},
   "source": [
    "## Question 1\n",
    "\n",
    "One of Sherlock Holmes' famous catch phrases is the use of the word 'undoubtedly'\n",
    "\n",
    "* How many times is the word 'undoubtedly' used?\n",
    "* Hint: findall returns the resuls in a list. You can use the length of the returned list."
   ]
  },
  {
   "cell_type": "code",
   "execution_count": 18,
   "metadata": {},
   "outputs": [],
   "source": [
    "# your answer"
   ]
  },
  {
   "cell_type": "code",
   "execution_count": 19,
   "metadata": {},
   "outputs": [
    {
     "name": "stdout",
     "output_type": "stream",
     "text": [
      "43\n",
      "43\n"
     ]
    }
   ],
   "source": [
    "# the word undoubtedly only appears 43 times\n",
    "p = re.compile(r'undoubtedly')\n",
    "print(len(p.findall(text)))\n",
    "\n",
    "# alternative\n",
    "\n",
    "print(len(re.findall(r'undoubtedly', text)))"
   ]
  },
  {
   "cell_type": "markdown",
   "metadata": {},
   "source": [
    "## Question 2\n",
    "\n",
    "Characters are announced very deliberatly in the language of the setting in Victorian England. We can use this later to find characters in the book. But for now let's practice on a character we know.\n",
    "\n",
    "* How often is Sherlock Holmes refered to by 'Mr. Sherlock Holmes' vs 'Sherlock Holmes' vs. 'Mr. Holmes' vs 'Sherlock'\n",
    "* Hint 1: We can start with finding the occurance of the pattern Sherlock Holmes.\n",
    "* Hint 2: If you read novel, you will also know that characters can be referred to by their given name or surname. In this case you can use the \"or\" operator |, for example \"Sherlock Holmes|Mr Holmes|Mr Sherlock Homes\""
   ]
  },
  {
   "cell_type": "code",
   "execution_count": 20,
   "metadata": {},
   "outputs": [],
   "source": [
    "# your answer based on Hint 1"
   ]
  },
  {
   "cell_type": "code",
   "execution_count": 21,
   "metadata": {
    "scrolled": true
   },
   "outputs": [
    {
     "data": {
      "text/plain": [
       "361"
      ]
     },
     "execution_count": 21,
     "metadata": {},
     "output_type": "execute_result"
    }
   ],
   "source": [
    "#lets start with the very simplest thing. \n",
    "#Let's just find the occurances of Sherlock Holmes\n",
    "p = re.compile('Sherlock Holmes')\n",
    "len(p.findall(text))"
   ]
  },
  {
   "cell_type": "code",
   "execution_count": 22,
   "metadata": {},
   "outputs": [],
   "source": [
    "# your answer based on Hint 2"
   ]
  },
  {
   "cell_type": "code",
   "execution_count": 23,
   "metadata": {},
   "outputs": [
    {
     "data": {
      "text/plain": [
       "{'Sherlock Holmes': 268,\n",
       " 'Mr. Sherlock Holmes': 93,\n",
       " 'Holmes': 1646,\n",
       " 'Mr. Holmes': 496,\n",
       " 'Sherlock': 22}"
      ]
     },
     "execution_count": 23,
     "metadata": {},
     "output_type": "execute_result"
    }
   ],
   "source": [
    "# one easy way to solve this\n",
    "# is to just use the 'or' operator | with all the patterns we want to match\n",
    "p = re.compile('Mr\\. Sherlock Holmes|Sherlock Holmes|Mr\\. Holmes|Sherlock|Holmes')\n",
    "results = p.findall(text)\n",
    "counts = {}\n",
    "for r in results:\n",
    "    if r in counts.keys():\n",
    "        counts[r] += 1\n",
    "    else:\n",
    "        counts[r] = 1\n",
    "        \n",
    "counts"
   ]
  },
  {
   "cell_type": "markdown",
   "metadata": {},
   "source": [
    "## Question 3\n",
    "\n",
    "* Find all the doctors in the collection\n",
    "    \n",
    "* Hint: Make a list of all the characters that first appear in the collection. You can assumt that the characters have a proper salutation sich as  Mrs. Mr. Miss Dr. etc"
   ]
  },
  {
   "cell_type": "code",
   "execution_count": 24,
   "metadata": {},
   "outputs": [],
   "source": [
    "# Your answer"
   ]
  },
  {
   "cell_type": "code",
   "execution_count": 25,
   "metadata": {},
   "outputs": [
    {
     "data": {
      "text/plain": [
       "{'Dr. Ainstree',\n",
       " 'Dr. Armstrong',\n",
       " 'Dr. Barnicot',\n",
       " 'Dr. Becher',\n",
       " 'Dr. Ferrier',\n",
       " 'Dr. Fordham',\n",
       " 'Dr. Grimesby',\n",
       " 'Dr. Horsom',\n",
       " 'Dr. Huxtable',\n",
       " 'Dr. James',\n",
       " 'Dr. Leon',\n",
       " 'Dr. Leslie',\n",
       " 'Dr. Moore',\n",
       " 'Dr. Mortimer',\n",
       " 'Dr. Percy',\n",
       " 'Dr. Richards',\n",
       " 'Dr. Roylott',\n",
       " 'Dr. Shlessinger',\n",
       " 'Dr. Somerton',\n",
       " 'Dr. Sterndale',\n",
       " 'Dr. Thorneycroft',\n",
       " 'Dr. Trevelyan',\n",
       " 'Dr. Watson',\n",
       " 'Dr. Willows',\n",
       " 'Dr. Wood',\n",
       " 'Miss Adler',\n",
       " 'Miss Alice',\n",
       " 'Miss Brenda',\n",
       " 'Miss Burnet',\n",
       " 'Miss Cushing',\n",
       " 'Miss Dobney',\n",
       " 'Miss Doran',\n",
       " 'Miss Edith',\n",
       " 'Miss Ettie',\n",
       " 'Miss Flora',\n",
       " 'Miss Fraser',\n",
       " 'Miss Harrison',\n",
       " 'Miss Hatty',\n",
       " 'Miss Helen',\n",
       " 'Miss Holder',\n",
       " 'Miss Honoria',\n",
       " 'Miss Hunter',\n",
       " 'Miss Irene',\n",
       " 'Miss M',\n",
       " 'Miss Marie',\n",
       " 'Miss Mary',\n",
       " 'Miss Miles',\n",
       " 'Miss Morrison',\n",
       " 'Miss Morstan',\n",
       " 'Miss Nancy',\n",
       " 'Miss Rachel',\n",
       " 'Miss Roylott',\n",
       " 'Miss Rucastle',\n",
       " 'Miss S',\n",
       " 'Miss Sarah',\n",
       " 'Miss Smith',\n",
       " 'Miss Stapleton',\n",
       " 'Miss Stoner',\n",
       " 'Miss Stoper',\n",
       " 'Miss Susan',\n",
       " 'Miss Sutherland',\n",
       " 'Miss Turner',\n",
       " 'Miss Violet',\n",
       " 'Miss Westbury',\n",
       " 'Mr. Abe',\n",
       " 'Mr. Abelwhite',\n",
       " 'Mr. Acton',\n",
       " 'Mr. Alec',\n",
       " 'Mr. Aloysius',\n",
       " 'Mr. Altamont',\n",
       " 'Mr. Ames',\n",
       " 'Mr. Angel',\n",
       " 'Mr. Armitage',\n",
       " 'Mr. Arthur',\n",
       " 'Mr. Athelney',\n",
       " 'Mr. Baker',\n",
       " 'Mr. Baldwin',\n",
       " 'Mr. Barker',\n",
       " 'Mr. Barrymore',\n",
       " 'Mr. Bartholomew',\n",
       " 'Mr. Baynes',\n",
       " 'Mr. Beddoes',\n",
       " 'Mr. Bender',\n",
       " 'Mr. Blessington',\n",
       " 'Mr. Boarder',\n",
       " 'Mr. Breckinridge',\n",
       " 'Mr. Brown',\n",
       " 'Mr. Browner',\n",
       " 'Mr. Busybody',\n",
       " 'Mr. Carruthers',\n",
       " 'Mr. Cecil',\n",
       " 'Mr. Chairman',\n",
       " 'Mr. Charles',\n",
       " 'Mr. Cocksure',\n",
       " 'Mr. Cornelius',\n",
       " 'Mr. Crooked',\n",
       " 'Mr. Cubitt',\n",
       " 'Mr. Culverton',\n",
       " 'Mr. Cunningham',\n",
       " 'Mr. Cyril',\n",
       " 'Mr. Detective',\n",
       " 'Mr. Doran',\n",
       " 'Mr. Douglas',\n",
       " 'Mr. Drebber',\n",
       " 'Mr. Duncan',\n",
       " 'Mr. Eccles',\n",
       " 'Mr. Eduardo',\n",
       " 'Mr. Enoch',\n",
       " 'Mr. Fairdale',\n",
       " 'Mr. Farquhar',\n",
       " 'Mr. Ferguson',\n",
       " 'Mr. Forbes',\n",
       " 'Mr. Fordham',\n",
       " 'Mr. Fowler',\n",
       " 'Mr. Frankland',\n",
       " 'Mr. Garcia',\n",
       " 'Mr. Gilchrist',\n",
       " 'Mr. Godfrey',\n",
       " 'Mr. Grant',\n",
       " 'Mr. Green',\n",
       " 'Mr. Gregson',\n",
       " 'Mr. Hall',\n",
       " 'Mr. Harding',\n",
       " 'Mr. Hardy',\n",
       " 'Mr. Harker',\n",
       " 'Mr. Harris',\n",
       " 'Mr. Harrison',\n",
       " 'Mr. Harry',\n",
       " 'Mr. Hatherley',\n",
       " 'Mr. Hayes',\n",
       " 'Mr. Heath',\n",
       " 'Mr. Henderson',\n",
       " 'Mr. Henry',\n",
       " 'Mr. Hilton',\n",
       " 'Mr. Holder',\n",
       " 'Mr. Holmes',\n",
       " 'Mr. Homes',\n",
       " 'Mr. Hope',\n",
       " 'Mr. Hopkins',\n",
       " 'Mr. Horace',\n",
       " 'Mr. Hosmer',\n",
       " 'Mr. Hugo',\n",
       " 'Mr. Huxtable',\n",
       " 'Mr. Hyam',\n",
       " 'Mr. Hynes',\n",
       " 'Mr. Inspector',\n",
       " 'Mr. Isa',\n",
       " 'Mr. Jabez',\n",
       " 'Mr. Jack',\n",
       " 'Mr. James',\n",
       " 'Mr. Jefferson',\n",
       " 'Mr. Jeremiah',\n",
       " 'Mr. Jeremy',\n",
       " 'Mr. John',\n",
       " 'Mr. Johnson',\n",
       " 'Mr. Jonas',\n",
       " 'Mr. Jones',\n",
       " 'Mr. Joseph',\n",
       " 'Mr. Josiah',\n",
       " 'Mr. Lanner',\n",
       " 'Mr. Latimer',\n",
       " 'Mr. Lestrade',\n",
       " 'Mr. Leverton',\n",
       " 'Mr. Lucas',\n",
       " 'Mr. Mac',\n",
       " 'Mr. MacDonald',\n",
       " 'Mr. McCarthy',\n",
       " 'Mr. McFarlane',\n",
       " 'Mr. McGinty',\n",
       " 'Mr. McMurdo',\n",
       " 'Mr. Melas',\n",
       " 'Mr. Merryweather',\n",
       " 'Mr. Milverton',\n",
       " 'Mr. Mordecai',\n",
       " 'Mr. Moriarty',\n",
       " 'Mr. Morris',\n",
       " 'Mr. Morse',\n",
       " 'Mr. Mortimer',\n",
       " 'Mr. Moulton',\n",
       " 'Mr. Munro',\n",
       " 'Mr. Murray',\n",
       " 'Mr. Musgrave',\n",
       " 'Mr. Mycroft',\n",
       " 'Mr. Neville',\n",
       " 'Mr. Oberstein',\n",
       " 'Mr. Oldacre',\n",
       " 'Mr. Overton',\n",
       " 'Mr. Patrick',\n",
       " 'Mr. Percy',\n",
       " 'Mr. Peters',\n",
       " 'Mr. Phelps',\n",
       " 'Mr. Pickwick',\n",
       " 'Mr. Pinner',\n",
       " 'Mr. Price',\n",
       " 'Mr. Pycroft',\n",
       " 'Mr. Reuben',\n",
       " 'Mr. Roundhay',\n",
       " 'Mr. Rucastle',\n",
       " 'Mr. Ryder',\n",
       " 'Mr. Sandeford',\n",
       " 'Mr. Scott',\n",
       " 'Mr. Shafter',\n",
       " 'Mr. Sherlock',\n",
       " 'Mr. Sherman',\n",
       " 'Mr. Sholto',\n",
       " 'Mr. Sidney',\n",
       " 'Mr. Silas',\n",
       " 'Mr. Slaney',\n",
       " 'Mr. Smith',\n",
       " 'Mr. Soames',\n",
       " 'Mr. St',\n",
       " 'Mr. Standback',\n",
       " 'Mr. Stanger',\n",
       " 'Mr. Stangerson',\n",
       " 'Mr. Stapleton',\n",
       " 'Mr. Staunton',\n",
       " 'Mr. Thaddeus',\n",
       " 'Mr. Theorist',\n",
       " 'Mr. Treasurer',\n",
       " 'Mr. Tregennis',\n",
       " 'Mr. Trelawney',\n",
       " 'Mr. Trevor',\n",
       " 'Mr. Turner',\n",
       " 'Mr. Victor',\n",
       " 'Mr. Von',\n",
       " 'Mr. Warren',\n",
       " 'Mr. White',\n",
       " 'Mr. Wilder',\n",
       " 'Mr. William',\n",
       " 'Mr. Williamson',\n",
       " 'Mr. Willoughby',\n",
       " 'Mr. Wilson',\n",
       " 'Mr. Windibank',\n",
       " 'Mr. Windigate',\n",
       " 'Mr. Woodley',\n",
       " 'Mrs. Allen',\n",
       " 'Mrs. Barclay',\n",
       " 'Mrs. Barrymore',\n",
       " 'Mrs. Bernstone',\n",
       " 'Mrs. Browner',\n",
       " 'Mrs. Carey',\n",
       " 'Mrs. Cecil',\n",
       " 'Mrs. Charpentier',\n",
       " 'Mrs. Dixon',\n",
       " 'Mrs. Douglas',\n",
       " 'Mrs. Etherege',\n",
       " 'Mrs. Farintosh',\n",
       " 'Mrs. Forrester',\n",
       " 'Mrs. Francis',\n",
       " 'Mrs. Hayes',\n",
       " 'Mrs. Hebron',\n",
       " 'Mrs. Henry',\n",
       " 'Mrs. Hilton',\n",
       " 'Mrs. Hudson',\n",
       " 'Mrs. King',\n",
       " 'Mrs. Larbey',\n",
       " 'Mrs. Laura',\n",
       " 'Mrs. Lexington',\n",
       " 'Mrs. Lucca',\n",
       " 'Mrs. Lyons',\n",
       " 'Mrs. Marker',\n",
       " 'Mrs. McGregor',\n",
       " 'Mrs. Moulton',\n",
       " 'Mrs. Oakshott',\n",
       " 'Mrs. Oldmore',\n",
       " 'Mrs. Peters',\n",
       " 'Mrs. Porter',\n",
       " 'Mrs. Pringle',\n",
       " 'Mrs. Rucastle',\n",
       " 'Mrs. Sawyer',\n",
       " 'Mrs. Shlessinger',\n",
       " 'Mrs. Smith',\n",
       " 'Mrs. St',\n",
       " 'Mrs. Stapleton',\n",
       " 'Mrs. Stewart',\n",
       " 'Mrs. Stoner',\n",
       " 'Mrs. Straker',\n",
       " 'Mrs. Tangey',\n",
       " 'Mrs. Toller',\n",
       " 'Mrs. Turner',\n",
       " 'Mrs. Vandeleur',\n",
       " 'Mrs. Warren',\n",
       " 'Mrs. Watson',\n",
       " 'Mrs. Woodley'}"
      ]
     },
     "execution_count": 25,
     "metadata": {},
     "output_type": "execute_result"
    }
   ],
   "source": [
    "p = re.compile('[MD][irs][s\\.]?[s\\.]? [A-Z]\\w*')\n",
    "set(p.findall(text))"
   ]
  },
  {
   "cell_type": "markdown",
   "metadata": {},
   "source": [
    "## Question 4\n",
    "\n",
    "* Search out all the years that appear in the story.\n",
    "* What is the format for year? If you know the book series, which years are the stories mostly likely set in?"
   ]
  },
  {
   "cell_type": "code",
   "execution_count": 26,
   "metadata": {
    "scrolled": true
   },
   "outputs": [
    {
     "name": "stdout",
     "output_type": "stream",
     "text": [
      "['1878', '1860', '1857', '1871', '1878', '1878', '1882', '1882', '1882', '1888', '1858', '1890', '1890', '1869', '1870', '1878', '1883', '1883', '1869', '1869', '1884', '1887', '1846', '1855', '1875', '1891', '1890', '1891', '1894', '1894', '1840', '1881', '1884', '1887', '1894', '1901', '1895', '1900', '1888', '1872', '1883', '1884', '1883', '1883', '1883', '1883', '1894', '1884', '1882', '1882', '1884', '1882', '1883', '1876', '1800', '1865', '1875', '1872', '1874', '1875', '1892', '1895', '1897', '1914', '1911', '1915']\n"
     ]
    }
   ],
   "source": [
    "# we can use \\d to match any digit\n",
    "p = re.compile('1[89]\\d\\d')\n",
    "years = p.findall(text)\n",
    "print (years)"
   ]
  },
  {
   "cell_type": "markdown",
   "metadata": {},
   "source": [
    "## Question 5\n",
    "\n",
    "Sherlock holmes is frequently smoking his pipe. But like many verbs in English, there are many ways that the word smoking can be conjugated depending on the context.\n",
    "\n",
    "* Capture all sentences that take about smoking (smoke, smokes, smoking, smoked).\n",
    "* Hint: For simplicity, since this is a properly written novel, you can assume that the start of a sentence has a word breaker and starts with capital letter, and ends with a full stop.\n"
   ]
  },
  {
   "cell_type": "code",
   "execution_count": 27,
   "metadata": {},
   "outputs": [],
   "source": [
    "# Your answer"
   ]
  },
  {
   "cell_type": "code",
   "execution_count": 28,
   "metadata": {
    "scrolled": false
   },
   "outputs": [
    {
     "name": "stdout",
     "output_type": "stream",
     "text": [
      ". I am going to smoke and to think over this queer business to which my fair client has introduced us.\n",
      ". I would have thought no more of knifing him than of smoking this cigar.\n",
      ". The smoke and shouting were enough to shake nerves of steel.\n",
      ". He had even smoked there.\n",
      ". Then I went into the back yard and smoked a pipe and wondered what it would be best to do.\n",
      ". As we rolled into Eyford Station we saw a gigantic column of smoke which streamed up from behind a small clump of trees in the neighbourhood and hung like an immense ostrich feather over the landscape.\n",
      ". Then he lit his pipe and sat for some time smoking and turning them over.\n",
      ". I had smoked two cigarettes before he moved.\n",
      ".  We had breakfasted and were smoking our morning pipe on the day after the remarkable experience which I have recorded when Mr.\n",
      ". I observed that he was smoking with extraordinary rapidity.\n",
      ". He does smoke something terrible.\n",
      ". From over a distant rise there floated a gray plume of smoke.\n",
      ". This might partly be due to the fact that a lamp stood flaring and smoking on the centre table.\n",
      "I am going to smoke and to think over this queer business to which my fair client has introduced us.\n",
      "I would have thought no more of knifing him than of smoking this cigar.\n",
      "The smoke and shouting were enough to shake nerves of steel.\n",
      "He had even smoked there.\n",
      "Then I went into the back yard and smoked a pipe and wondered what it would be best to do.\n",
      "As we rolled into Eyford Station we saw a gigantic column of smoke which streamed up from behind a small clump of trees in the neighbourhood and hung like an immense ostrich feather over the landscape.\n",
      "Then he lit his pipe and sat for some time smoking and turning them over.\n",
      "I had smoked two cigarettes before he moved.\n",
      " We had breakfasted and were smoking our morning pipe on the day after the remarkable experience which I have recorded when Mr.\n",
      "I observed that he was smoking with extraordinary rapidity.\n",
      "He does smoke something terrible.\n",
      "From over a distant rise there floated a gray plume of smoke.\n",
      "This might partly be due to the fact that a lamp stood flaring and smoking on the centre table.\n"
     ]
    }
   ],
   "source": [
    "p = re.compile('\\.[ A-Za-z]+smok[ A-Za-z]+\\.')\n",
    "sentences = p.findall(text)\n",
    "\n",
    "for s in sentences:\n",
    "    print (s)\n",
    "for s in sentences:\n",
    "    clean_s = re.sub(r\"\\. \", \"\", s)\n",
    "    print (clean_s)"
   ]
  },
  {
   "cell_type": "markdown",
   "metadata": {},
   "source": [
    "    \n",
    "## Question 6\n",
    "\n",
    "Often we will recieve a block of unstructured text within some delimiter. For example,\n",
    "a book is often segmented into chapters.\n",
    "We can use REGEX to search the chapter delimiter for a book and split into its chapter.\n",
    "\n",
    "* View the contents of the text by looking at the first 50,000 characters. Confirm if the book is divided into CHAPTER headings.\n"
   ]
  },
  {
   "cell_type": "code",
   "execution_count": 29,
   "metadata": {
    "scrolled": true
   },
   "outputs": [
    {
     "name": "stdout",
     "output_type": "stream",
     "text": [
      "    THE COMPLETE SHERLOCK HOLMES  Arthur Conan Doyle    Table of contents  A Study In Scarlet  The Sign of the Four  The Adventures of Sherlock Holmes A Scandal in Bohemia The Red-Headed League A Case of Identity The Boscombe Valley Mystery The Five Orange Pips The Man with the Twisted Lip The Adventure of the Blue Carbuncle The Adventure of the Speckled Band The Adventure of the Engineer's Thumb The Adventure of the Noble Bachelor The Adventure of the Beryl Coronet The Adventure of the Copper Beeches  The Memoirs of Sherlock Holmes Silver Blaze The Yellow Face The Stock-Broker's Clerk The \"Gloria Scott\" The Musgrave Ritual The Reigate Squires The Crooked Man The Resident Patient The Greek Interpreter The Naval Treaty The Final Problem  The Return of Sherlock Holmes The Adventure of the Empty House The Adventure of the Norwood Builder The Adventure of the Dancing Men The Adventure of the Solitary Cyclist The Adventure of the Priory School The Adventure of Black Peter The Adventure of Charles Augustus Milverton The Adventure of the Six Napoleons The Adventure of the Three Students The Adventure of the Golden Pince-Nez The Adventure of the Missing Three-Quarter The Adventure of the Abbey Grange The Adventure of the Second Stain  The Hound of the Baskervilles  The Valley Of Fear  His Last Bow Preface The Adventure of Wisteria Lodge The Adventure of the Cardboard Box The Adventure of the Red Circle The Adventure of the Bruce-Partington Plans The Adventure of the Dying Detective The Disappearance of Lady Frances Carfax The Adventure of the Devil's Foot His Last Bow            A STUDY IN SCARLET      Table of contents  Part I Mr. Sherlock Holmes The Science Of Deduction The Lauriston Garden Mystery What John Rance Had To Tell Our Advertisement Brings A Visitor Tobias Gregson Shows What He Can Do Light In The Darkness  Part II On The Great Alkali Plain The Flower Of Utah John Ferrier Talks With The Prophet A Flight For Life The Avenging Angels A Continuation Of The Reminiscences Of John Watson, M.D. The Conclusion                    PART I  (Being a reprint from the reminiscences of John H. Watson, M.D., late of the Army Medical Department.)      CHAPTER I Mr. Sherlock Holmes   In the year 1878 I took my degree of Doctor of Medicine of the University of London, and proceeded to Netley to go through the course prescribed for surgeons in the army. Having completed my studies there, I was duly attached to the Fifth Northumberland Fusiliers as Assistant Surgeon. The regiment was stationed in India at the time, and before I could join it, the second Afghan war had broken out. On landing at Bombay, I learned that my corps had advanced through the passes, and was already deep in the enemy's country. I followed, however, with many other officers who were in the same situation as myself, and succeeded in reaching Candahar in safety, where I found my regiment, and at once entered upon my new duties.  The campaign brought honours and promotion to many, but for me it had nothing but misfortune and disaster. I was removed from my brigade and attached to the Berkshires, with whom I served at the fatal battle of Maiwand. There I was struck on the shoulder by a Jezail bullet, which shattered the bone and grazed the subclavian artery. I should have fallen into the hands of the murderous Ghazis had it not been for the devotion and courage shown by Murray, my orderly, who threw me across a pack-horse, and succeeded in bringing me safely to the British lines.  Worn with pain, and weak from the prolonged hardships which I had undergone, I was removed, with a great train of wounded sufferers, to the base hospital at Peshawar. Here I rallied, and had already improved so far as to be able to walk about the wards, and even to bask a little upon the verandah, when I was struck down by enteric fever, that curse of our Indian possessions. For months my life was despaired of, and when at last I came to myself and became convalescent, I was so weak and emaciated that a medical board determined that not a day should be lost in sending me back to England. I was dispatched, accordingly, in the troopship Orontes, and landed a month later on Portsmouth jetty, with my health irretrievably ruined, but with permission from a paternal government to spend the next nine months in attempting to improve it.  I had neither kith nor kin in England, and was therefore as free as air--or as free as an income of eleven shillings and sixpence a day will permit a man to be. Under such circumstances, I naturally gravitated to London, that great cesspool into which all the loungers and idlers of the Empire are irresistibly drained. There I stayed for some time at a private hotel in the Strand, leading a comfortless, meaningless existence, and spending such money as I had, considerably more freely than I ought. So alarming did the state of my finances become, that I soon realized that I must either leave the metropolis and rusticate somewhere in the country, or that I must make a complete alteration in my style of living. Choosing the latter alternative, I began by making up my mind to leave the hotel, and to take up my quarters in some less pretentious and less expensive domicile.  On the very day that I had come to this conclusion, I was standing at the Criterion Bar, when some one tapped me on the shoulder, and turning round I recognized young Stamford, who had been a dresser under me at Bart's. The sight of a friendly face in the great wilderness of London is a pleasant thing indeed to a lonely man. In old days Stamford had never been a particular crony of mine, but now I hailed him with enthusiasm, and he, in his turn, appeared to be delighted to see me. In the exuberance of my joy, I asked him to lunch with me at the Holborn, and we started off together in a hansom.  \"Whatever have you been doing with yourself, Watson?\" he asked in undisguised wonder, as we rattled through the crowded London streets. \"You are as thin as a lath and as brown as a nut.\"  I gave him a short sketch of my adventures, and had hardly concluded it by the time that we reached our destination.  \"Poor devil!\" he said, commiseratingly, after he had listened to my misfortunes. \"What are you up to now?\"  \"Looking for lodgings,\" I answered. \"Trying to solve the problem as to whether it is possible to get comfortable rooms at a reasonable price.\"  \"That's a strange thing,\" remarked my companion; \"you are the second man to-day that has used that expression to me.\"  \"And who was the first?\" I asked.  \"A fellow who is working at the chemical laboratory up at the hospital. He was bemoaning himself this morning because he could not get someone to go halves with him in some nice rooms which he had found, and which were too much for his purse.\"  \"By Jove!\" I cried, \"if he really wants someone to share the rooms and the expense, I am the very man for him. I should prefer having a partner to being alone.\"  Young Stamford looked rather strangely at me over his wine-glass. \"You don't know Sherlock Holmes yet,\" he said; \"perhaps you would not care for him as a constant companion.\"  \"Why, what is there against him?\"  \"Oh, I didn't say there was anything against him. He is a little queer in his ideas--an enthusiast in some branches of science. As far as I know he is a decent fellow enough.\"  \"A medical student, I suppose?\" said I.  \"No--I have no idea what he intends to go in for. I believe he is well up in anatomy, and he is a first-class chemist; but, as far as I know, he has never taken out any systematic medical classes. His studies are very desultory and eccentric, but he has amassed a lot of out-of-the way knowledge which would astonish his professors.\"  \"Did you never ask him what he was going in for?\" I asked.  \"No; he is not a man that it is easy to draw out, though he can be communicative enough when the fancy seizes him.\"  \"I should like to meet him,\" I said. \"If I am to lodge with anyone, I should prefer a man of studious and quiet habits. I am not strong enough yet to stand much noise or excitement. I had enough of both in Afghanistan to last me for the remainder of my natural existence. How could I meet this friend of yours?\"  \"He is sure to be at the laboratory,\" returned my companion. \"He either avoids the place for weeks, or else he works there from morning to night. If you like, we shall drive round together after luncheon.\"  \"Certainly,\" I answered, and the conversation drifted away into other channels.  As we made our way to the hospital after leaving the Holborn, Stamford gave me a few more particulars about the gentleman whom I proposed to take as a fellow-lodger.  \"You mustn't blame me if you don't get on with him,\" he said; \"I know nothing more of him than I have learned from meeting him occasionally in the laboratory. You proposed this arrangement, so you must not hold me responsible.\"  \"If we don't get on it will be easy to part company,\" I answered. \"It seems to me, Stamford,\" I added, looking hard at my companion, \"that you have some reason for washing your hands of the matter. Is this fellow's temper so formidable, or what is it? Don't be mealy-mouthed about it.\"  \"It is not easy to express the inexpressible,\" he answered with a laugh. \"Holmes is a little too scientific for my tastes--it approaches to cold-bloodedness. I could imagine his giving a friend a little pinch of the latest vegetable alkaloid, not out of malevolence, you understand, but simply out of a spirit of inquiry in order to have an accurate idea of the effects. To do him justice, I think that he would take it himself with the same readiness. He appears to have a passion for definite and exact knowledge.\"  \"Very right too.\"  \"Yes, but it may be pushed to excess. When it comes to beating the subjects in the dissecting-rooms with a stick, it is certainly taking rather a bizarre shape.\"  \"Beating the subjects!\"  \"Yes, to verify how far bruises may be produced after death. I saw him at it with my own eyes.\"  \"And yet you say he is not a medical student?\"  \"No. Heaven knows what the objects of his studies are. But here we are, and you must form your own impressions about him.\" As he spoke, we turned down a narrow lane and passed through a small side-door, which opened into a wing of the great hospital. It was familiar ground to me, and I needed no guiding as we ascended the bleak stone staircase and made our way down the long corridor with its vista of whitewashed wall and dun-coloured doors. Near the further end a low arched passage branched away from it and led to the chemical laboratory.  This was a lofty chamber, lined and littered with countless bottles. Broad, low tables were scattered about, which bristled with retorts, test-tubes, and little Bunsen lamps, with their blue flickering flames. There was only one student in the room, who was bending over a distant table absorbed in his work. At the sound of our steps he glanced round and sprang to his feet with a cry of pleasure. \"I've found it! I've found it,\" he shouted to my companion, running towards us with a test-tube in his hand. \"I have found a re-agent which is precipitated by hoemoglobin, and by nothing else.\" Had he discovered a gold mine, greater delight could not have shone upon his features.  \"Dr. Watson, Mr. Sherlock Holmes,\" said Stamford, introducing us.  \"How are you?\" he said cordially, gripping my hand with a strength for which I should hardly have given him credit. \"You have been in Afghanistan, I perceive.\"  \"How on earth did you know that?\" I asked in astonishment.  \"Never mind,\" said he, chuckling to himself. \"The question now is about hoemoglobin. No doubt you see the significance of this discovery of mine?\"  \"It is interesting, chemically, no doubt,\" I answered, \"but practically--\"  \"Why, man, it is the most practical medico-legal discovery for years. Don't you see that it gives us an infallible test for blood stains. Come over here now!\" He seized me by the coat-sleeve in his eagerness, and drew me over to the table at which he had been working. \"Let us have some fresh blood,\" he said, digging a long bodkin into his finger, and drawing off the resulting drop of blood in a chemical pipette. \"Now, I add this small quantity of blood to a litre of water. You perceive that the resulting mixture has the appearance of pure water. The proportion of blood cannot be more than one in a million. I have no doubt, however, that we shall be able to obtain the characteristic reaction.\" As he spoke, he threw into the vessel a few white crystals, and then added some drops of a transparent fluid. In an instant the contents assumed a dull mahogany colour, and a brownish dust was precipitated to the bottom of the glass jar.  \"Ha! ha!\" he cried, clapping his hands, and looking as delighted as a child with a new toy. \"What do you think of that?\"  \"It seems to be a very delicate test,\" I remarked.  \"Beautiful! beautiful! The old Guiacum test was very clumsy and uncertain. So is the microscopic examination for blood corpuscles. The latter is valueless if the stains are a few hours old. Now, this appears to act as well whether the blood is old or new. Had this test been invented, there are hundreds of men now walking the earth who would long ago have paid the penalty of their crimes.\"  \"Indeed!\" I murmured.  \"Criminal cases are continually hinging upon that one point. A man is suspected of a crime months perhaps after it has been committed. His linen or clothes are examined, and brownish stains discovered upon them. Are they blood stains, or mud stains, or rust stains, or fruit stains, or what are they? That is a question which has puzzled many an expert, and why? Because there was no reliable test. Now we have the Sherlock Holmes' test, and there will no longer be any difficulty.\"  His eyes fairly glittered as he spoke, and he put his hand over his heart and bowed as if to some applauding crowd conjured up by his imagination.  \"You are to be congratulated,\" I remarked, considerably surprised at his enthusiasm.  \"There was the case of Von Bischoff at Frankfort last year. He would certainly have been hung had this test been in existence. Then there was Mason of Bradford, and the notorious Muller, and Lefevre of Montpellier, and Samson of new Orleans. I could name a score of cases in which it would have been decisive.\"  \"You seem to be a walking calendar of crime,\" said Stamford with a laugh. \"You might start a paper on those lines. Call it the 'Police News of the Past.'\"  \"Very interesting reading it might be made, too,\" remarked Sherlock Holmes, sticking a small piece of plaster over the prick on his finger. \"I have to be careful,\" he continued, turning to me with a smile, \"for I dabble with poisons a good deal.\" He held out his hand as he spoke, and I noticed that it was all mottled over with similar pieces of plaster, and discoloured with strong acids.  \"We came here on business,\" said Stamford, sitting down on a high three-legged stool, and pushing another one in my direction with his foot. \"My friend here wants to take diggings, and as you were complaining that you could get no one to go halves with you, I thought that I had better bring you together.\"  Sherlock Holmes seemed delighted at the idea of sharing his rooms with me. \"I have my eye on a suite in Baker Street,\" he said, \"which would suit us down to the ground. You don't mind the smell of strong tobacco, I hope?\"  \"I always smoke 'ship's' myself,\" I answered.  \"That's good enough. I generally have chemicals about, and occasionally do experiments. Would that annoy you?\"  \"By no means.\"  \"Let me see--what are my other shortcomings. I get in the dumps at times, and don't open my mouth for days on end. You must not think I am sulky when I do that. Just let me alone, and I'll soon be right. What have you to confess now? It's just as well for two fellows to know the worst of one another before they begin to live together.\"  I laughed at this cross-examination. \"I keep a bull pup,\" I said, \"and I object to rows because my nerves are shaken, and I get up at all sorts of ungodly hours, and I am extremely lazy. I have another set of vices when I'm well, but those are the principal ones at present.\"  \"Do you include violin-playing in your category of rows?\" he asked, anxiously.  \"It depends on the player,\" I answered. \"A well-played violin is a treat for the gods--a badly-played one--\"  \"Oh, that's all right,\" he cried, with a merry laugh. \"I think we may consider the thing as settled--that is, if the rooms are agreeable to you.\"  \"When shall we see them?\"  \"Call for me here at noon to-morrow, and we'll go together and settle everything,\" he answered.  \"All right--noon exactly,\" said I, shaking his hand.  We left him working among his chemicals, and we walked together towards my hotel.  \"By the way,\" I asked suddenly, stopping and turning upon Stamford, \"how the deuce did he know that I had come from Afghanistan?\"  My companion smiled an enigmatical smile. \"That's just his little peculiarity,\" he said. \"A good many people have wanted to know how he finds things out.\"  \"Oh! a mystery is it?\" I cried, rubbing my hands. \"This is very piquant. I am much obliged to you for bringing us together. 'The proper study of mankind is man,' you know.\"  \"You must study him, then,\" Stamford said, as he bade me good-bye. \"You'll find him a knotty problem, though. I'll wager he learns more about you than you about him. Good-bye.\"  \"Good-bye,\" I answered, and strolled on to my hotel, considerably interested in my new acquaintance.      CHAPTER II The Science Of Deduction   We met next day as he had arranged, and inspected the rooms at No. 221b, Baker Street, of which he had spoken at our meeting. They consisted of a couple of comfortable bed-rooms and a single large airy sitting-room, cheerfully furnished, and illuminated by two broad windows. So desirable in every way were the apartments, and so moderate did the terms seem when divided between us, that the bargain was concluded upon the spot, and we at once entered into possession. That very evening I moved my things round from the hotel, and on the following morning Sherlock Holmes followed me with several boxes and portmanteaus. For a day or two we were busily employed in unpacking and laying out our property to the best advantage. That done, we gradually began to settle down and to accommodate ourselves to our new surroundings.  Holmes was certainly not a difficult man to live with. He was quiet in his ways, and his habits were regular. It was rare for him to be up after ten at night, and he had invariably breakfasted and gone out before I rose in the morning. Sometimes he spent his day at the chemical laboratory, sometimes in the dissecting-rooms, and occasionally in long walks, which appeared to take him into the lowest portions of the City. Nothing could exceed his energy when the working fit was upon him; but now and again a reaction would seize him, and for days on end he would lie upon the sofa in the sitting-room, hardly uttering a word or moving a muscle from morning to night. On these occasions I have noticed such a dreamy, vacant expression in his eyes, that I might have suspected him of being addicted to the use of some narcotic, had not the temperance and cleanliness of his whole life forbidden such a notion.  As the weeks went by, my interest in him and my curiosity as to his aims in life, gradually deepened and increased. His very person and appearance were such as to strike the attention of the most casual observer. In height he was rather over six feet, and so excessively lean that he seemed to be considerably taller. His eyes were sharp and piercing, save during those intervals of torpor to which I have alluded; and his thin, hawk-like nose gave his whole expression an air of alertness and decision. His chin, too, had the prominence and squareness which mark the man of determination. His hands were invariably blotted with ink and stained with chemicals, yet he was possessed of extraordinary delicacy of touch, as I frequently had occasion to observe when I watched him manipulating his fragile philosophical instruments.  The reader may set me down as a hopeless busybody, when I confess how much this man stimulated my curiosity, and how often I endeavoured to break through the reticence which he showed on all that concerned himself. Before pronouncing judgment, however, be it remembered, how objectless was my life, and how little there was to engage my attention. My health forbade me from venturing out unless the weather was exceptionally genial, and I had no friends who would call upon me and break the monotony of my daily existence. Under these circumstances, I eagerly hailed the little mystery which hung around my companion, and spent much of my time in endeavouring to unravel it.  He was not studying medicine. He had himself, in reply to a question, confirmed Stamford's opinion upon that point. Neither did he appear to have pursued any course of reading which might fit him for a degree in science or any other recognized portal which would give him an entrance into the learned world. Yet his zeal for certain studies was remarkable, and within eccentric limits his knowledge was so extraordinarily ample and minute that his observations have fairly astounded me. Surely no man would work so hard or attain such precise information unless he had some definite end in view. Desultory readers are seldom remarkable for the exactness of their learning. No man burdens his mind with small matters unless he has some very good reason for doing so.  His ignorance was as remarkable as his knowledge. Of contemporary literature, philosophy and politics he appeared to know next to nothing. Upon my quoting Thomas Carlyle, he inquired in the naivest way who he might be and what he had done. My surprise reached a climax, however, when I found incidentally that he was ignorant of the Copernican Theory and of the composition of the Solar System. That any civilized human being in this nineteenth century should not be aware that the earth travelled round the sun appeared to be to me such an extraordinary fact that I could hardly realize it.  \"You appear to be astonished,\" he said, smiling at my expression of surprise. \"Now that I do know it I shall do my best to forget it.\"  \"To forget it!\"  \"You see,\" he explained, \"I consider that a man's brain originally is like a little empty attic, and you have to stock it with such furniture as you choose. A fool takes in all the lumber of every sort that he comes across, so that the knowledge which might be useful to him gets crowded out, or at best is jumbled up with a lot of other things so that he has a difficulty in laying his hands upon it. Now the skilful workman is very careful indeed as to what he takes into his brain-attic. He will have nothing but the tools which may help him in doing his work, but of these he has a large assortment, and all in the most perfect order. It is a mistake to think that that little room has elastic walls and can distend to any extent. Depend upon it there comes a time when for every addition of knowledge you forget something that you knew before. It is of the highest importance, therefore, not to have useless facts elbowing out the useful ones.\"  \"But the Solar System!\" I protested.  \"What the deuce is it to me?\" he interrupted impatiently; \"you say that we go round the sun. If we went round the moon it would not make a pennyworth of difference to me or to my work.\"  I was on the point of asking him what that work might be, but something in his manner showed me that the question would be an unwelcome one. I pondered over our short conversation, however, and endeavoured to draw my deductions from it. He said that he would acquire no knowledge which did not bear upon his object. Therefore all the knowledge which he possessed was such as would be useful to him. I enumerated in my own mind all the various points upon which he had shown me that he was exceptionally well-informed. I even took a pencil and jotted them down. I could not help smiling at the document when I had completed it. It ran in this way--  Sherlock Holmes--his limits.  1. Knowledge of Literature.--Nil. 2. Philosophy.--Nil. 3. Astronomy.--Nil. 4. Politics.--Feeble. 5. Botany.--Variable. Well up in belladonna, opium, and poisons generally. Knows nothing of practical gardening. 6. Geology.--Practical, but limited. Tells at a glance different soils from each other. After walks has shown me splashes upon his trousers, and told me by their colour and consistence in what part of London he had received them. 7. Chemistry.--Profound. 8. Anatomy.--Accurate, but unsystematic. 9. Sensational Literature.--Immense. He appears to know every detail of every horror perpetrated in the century. 10. Plays the violin well. 11. Is an expert singlestick player, boxer, and swordsman. 12. Has a good practical knowledge of British law.  When I had got so far in my list I threw it into the fire in despair. \"If I can only find what the fellow is driving at by reconciling all these accomplishments, and discovering a calling which needs them all,\" I said to myself, \"I may as well give up the attempt at once.\"  I see that I have alluded above to his powers upon the violin. These were very remarkable, but as eccentric as all his other accomplishments. That he could play pieces, and difficult pieces, I knew well, because at my request he has played me some of Mendelssohn's Lieder, and other favourites. When left to himself, however, he would seldom produce any music or attempt any recognized air. Leaning back in his arm-chair of an evening, he would close his eyes and scrape carelessly at the fiddle which was thrown across his knee. Sometimes the chords were sonorous and melancholy. Occasionally they were fantastic and cheerful. Clearly they reflected the thoughts which possessed him, but whether the music aided those thoughts, or whether the playing was simply the result of a whim or fancy was more than I could determine. I might have rebelled against these exasperating solos had it not been that he usually terminated them by playing in quick succession a whole series of my favourite airs as a slight compensation for the trial upon my patience.  During the first week or so we had no callers, and I had begun to think that my companion was as friendless a man as I was myself. Presently, however, I found that he had many acquaintances, and those in the most different classes of society. There was one little sallow rat-faced, dark-eyed fellow who was introduced to me as Mr. Lestrade, and who came three or four times in a single week. One morning a young girl called, fashionably dressed, and stayed for half an hour or more. The same afternoon brought a grey-headed, seedy visitor, looking like a Jew pedlar, who appeared to me to be much excited, and who was closely followed by a slipshod elderly woman. On another occasion an old white-haired gentleman had an interview with my companion; and on another a railway porter in his velveteen uniform. When any of these nondescript individuals put in an appearance, Sherlock Holmes used to beg for the use of the sitting-room, and I would retire to my bed-room. He always apologized to me for putting me to this inconvenience. \"I have to use this room as a place of business,\" he said, \"and these people are my clients.\" Again I had an opportunity of asking him a point blank question, and again my delicacy prevented me from forcing another man to confide in me. I imagined at the time that he had some strong reason for not alluding to it, but he soon dispelled the idea by coming round to the subject of his own accord.  It was upon the 4th of March, as I have good reason to remember, that I rose somewhat earlier than usual, and found that Sherlock Holmes had not yet finished his breakfast. The landlady had become so accustomed to my late habits that my place had not been laid nor my coffee prepared. With the unreasonable petulance of mankind I rang the bell and gave a curt intimation that I was ready. Then I picked up a magazine from the table and attempted to while away the time with it, while my companion munched silently at his toast. One of the articles had a pencil mark at the heading, and I naturally began to run my eye through it.  Its somewhat ambitious title was \"The Book of Life,\" and it attempted to show how much an observant man might learn by an accurate and systematic examination of all that came in his way. It struck me as being a remarkable mixture of shrewdness and of absurdity. The reasoning was close and intense, but the deductions appeared to me to be far-fetched and exaggerated. The writer claimed by a momentary expression, a twitch of a muscle or a glance of an eye, to fathom a man's inmost thoughts. Deceit, according to him, was an impossibility in the case of one trained to observation and analysis. His conclusions were as infallible as so many propositions of Euclid. So startling would his results appear to the uninitiated that until they learned the processes by which he had arrived at them they might well consider him as a necromancer.  \"From a drop of water,\" said the writer, \"a logician could infer the possibility of an Atlantic or a Niagara without having seen or heard of one or the other. So all life is a great chain, the nature of which is known whenever we are shown a single link of it. Like all other arts, the Science of Deduction and Analysis is one which can only be acquired by long and patient study nor is life long enough to allow any mortal to attain the highest possible perfection in it. Before turning to those moral and mental aspects of the matter which present the greatest difficulties, let the enquirer begin by mastering more elementary problems. Let him, on meeting a fellow-mortal, learn at a glance to distinguish the history of the man, and the trade or profession to which he belongs. Puerile as such an exercise may seem, it sharpens the faculties of observation, and teaches one where to look and what to look for. By a man's finger nails, by his coat-sleeve, by his boot, by his trouser knees, by the callosities of his forefinger and thumb, by his expression, by his shirt cuffs--by each of these things a man's calling is plainly revealed. That all united should fail to enlighten the competent enquirer in any case is almost inconceivable.\"  \"What ineffable twaddle!\" I cried, slapping the magazine down on the table, \"I never read such rubbish in my life.\"  \"What is it?\" asked Sherlock Holmes.  \"Why, this article,\" I said, pointing at it with my egg spoon as I sat down to my breakfast. \"I see that you have read it since you have marked it. I don't deny that it is smartly written. It irritates me though. It is evidently the theory of some arm-chair lounger who evolves all these neat little paradoxes in the seclusion of his own study. It is not practical. I should like to see him clapped down in a third class carriage on the Underground, and asked to give the trades of all his fellow-travellers. I would lay a thousand to one against him.\"  \"You would lose your money,\" Sherlock Holmes remarked calmly.  \"As for the article I wrote it myself.\"  \"You!\"  \"Yes, I have a turn both for observation and for deduction. The theories which I have expressed there, and which appear to you to be so chimerical are really extremely practical--so practical that I depend upon them for my bread and cheese.\"  \"And how?\" I asked involuntarily.  \"Well, I have a trade of my own. I suppose I am the only one in the world. I'm a consulting detective, if you can understand what that is. Here in London we have lots of Government detectives and lots of private ones. When these fellows are at fault they come to me, and I manage to put them on the right scent. They lay all the evidence before me, and I am generally able, by the help of my knowledge of the history of crime, to set them straight. There is a strong family resemblance about misdeeds, and if you have all the details of a thousand at your finger ends, it is odd if you can't unravel the thousand and first. Lestrade is a well-known detective. He got himself into a fog recently over a forgery case, and that was what brought him here.\"  \"And these other people?\"  \"They are mostly sent on by private inquiry agencies. They are all people who are in trouble about something, and want a little enlightening. I listen to their story, they listen to my comments, and then I pocket my fee.\"  \"But do you mean to say,\" I said, \"that without leaving your room you can unravel some knot which other men can make nothing of, although they have seen every detail for themselves?\"  \"Quite so. I have a kind of intuition that way. Now and again a case turns up which is a little more complex. Then I have to bustle about and see things with my own eyes. You see I have a lot of special knowledge which I apply to the problem, and which facilitates matters wonderfully. Those rules of deduction laid down in that article which aroused your scorn, are invaluable to me in practical work. Observation with me is second nature. You appeared to be surprised when I told you, on our first meeting, that you had come from Afghanistan.\"  \"You were told, no doubt.\"  \"Nothing of the sort. I knew you came from Afghanistan. From long habit the train of thoughts ran so swiftly through my mind, that I arrived at the conclusion without being conscious of intermediate steps. There were such steps, however. The train of reasoning ran, 'Here is a gentleman of a medical type, but with the air of a military man. Clearly an army doctor, then. He has just come from the tropics, for his face is dark, and that is not the natural tint of his skin, for his wrists are fair. He has undergone hardship and sickness, as his haggard face says clearly. His left arm has been injured. He holds it in a stiff and unnatural manner. Where in the tropics could an English army doctor have seen much hardship and got his arm wounded? Clearly in Afghanistan.' The whole train of thought did not occupy a second. I then remarked that you came from Afghanistan, and you were astonished.\"  \"It is simple enough as you explain it,\" I said, smiling. \"You remind me of Edgar Allen Poe's Dupin. I had no idea that such individuals did exist outside of stories.\"  Sherlock Holmes rose and lit his pipe. \"No doubt you think that you are complimenting me in comparing me to Dupin,\" he observed. \"Now, in my opinion, Dupin was a very inferior fellow. That trick of his of breaking in on his friends' thoughts with an apropos remark after a quarter of an hour's silence is really very showy and superficial. He had some analytical genius, no doubt; but he was by no means such a phenomenon as Poe appeared to imagine.\"  \"Have you read Gaboriau's works?\" I asked. \"Does Lecoq come up to your idea of a detective?\"  Sherlock Holmes sniffed sardonically. \"Lecoq was a miserable bungler,\" he said, in an angry voice; \"he had only one thing to recommend him, and that was his energy. That book made me positively ill. The question was how to identify an unknown prisoner. I could have done it in twenty-four hours. Lecoq took six months or so. It might be made a text-book for detectives to teach them what to avoid.\"  I felt rather indignant at having two characters whom I had admired treated in this cavalier style. I walked over to the window, and stood looking out into the busy street. \"This fellow may be very clever,\" I said to myself, \"but he is certainly very conceited.\"  \"There are no crimes and no criminals in these days,\" he said, querulously. \"What is the use of having brains in our profession? I know well that I have it in me to make my name famous. No man lives or has ever lived who has brought the same amount of study and of natural talent to the detection of crime which I have done. And what is the result? There is no crime to detect, or, at most, some bungling villany with a motive so transparent that even a Scotland Yard official can see through it.\"  I was still annoyed at his bumptious style of conversation. I thought it best to change the topic.  \"I wonder what that fellow is looking for?\" I asked, pointing to a stalwart, plainly-dressed individual who was walking slowly down the other side of the street, looking anxiously at the numbers. He had a large blue envelope in his hand, and was evidently the bearer of a message.  \"You mean the retired sergeant of Marines,\" said Sherlock Holmes.  \"Brag and bounce!\" thought I to myself. \"He knows that I cannot verify his guess.\"  The thought had hardly passed through my mind when the man whom we were watching caught sight of the number on our door, and ran rapidly across the roadway. We heard a loud knock, a deep voice below, and heavy steps ascending the stair.  \"For Mr. Sherlock Holmes,\" he said, stepping into the room and handing my friend the letter.  Here was an opportunity of taking the conceit out of him. He little thought of this when he made that random shot. \"May I ask, my lad,\" I said, in the blandest voice, \"what your trade may be?\"  \"Commissionaire, sir,\" he said, gruffly. \"Uniform away for repairs.\"  \"And you were?\" I asked, with a slightly malicious glance at my companion.  \"A sergeant, sir, Royal Marine Light Infantry, sir. No answer? Right, sir.\"  He clicked his heels together, raised his hand in a salute, and was gone.      CHAPTER III The Lauriston Garden Mystery   I confess that I was considerably startled by this fresh proof of the practical nature of my companion's theories. My respect for his powers of analysis increased wondrously. There still remained some lurking suspicion in my mind, however, that the whole thing was a pre-arranged episode, intended to dazzle me, though what earthly object he could have in taking me in was past my comprehension. When I looked at him he had finished reading the note, and his eyes had assumed the vacant, lack-lustre expression which showed mental abstraction.  \"How in the world did you deduce that?\" I asked.  \"Deduce what?\" said he, petulantly.  \"Why, that he was a retired sergeant of Marines.\"  \"I have no time for trifles,\" he answered, brusquely; then with a smile, \"Excuse my rudeness. You broke the thread of my thoughts; but perhaps it is as well. So you actually were not able to see that that man was a sergeant of Marines?\"  \"No, indeed.\"  \"It was easier to know it than to explain why I knew it. If you were asked to prove that two and two made four, you might find some difficulty, and yet you are quite sure of the fact. Even across the street I could see a great blue anchor tattooed on the back of the fellow's hand. That smacked of the sea. He had a military carriage, however, and regulation side whiskers. There we have the marine. He was a man with some amount of self-importance and a certain air of command. You must have observed the way in which he held his head and swung his cane. A steady, respectable, middle-aged man, too, on the face of him--all facts which led me to believe that he had been a sergeant.\"  \"Wonderful!\" I ejaculated.  \"Commonplace,\" said Holmes, though I thought from his expression that he was pleased at my evident surprise and admiration. \"I said just now that there were no criminals. It appears that I am wrong--look at this!\" He threw me over the note which the commissionaire had brought.  \"Why,\" I cried, as I cast my eye over it, \"this is terrible!\"  \"It does seem to be a little out of the common,\" he remarked, calmly. \"Would you mind reading it to me aloud?\"  This is the letter which I read to him--  \"My dear Mr. Sherlock Holmes: \"There has been a bad business during the night at 3, Lauriston Gardens, off the Brixton Road. Our man on the beat saw a light there about two in the morning, and as the house was an empty one, suspected that something was amiss. He found the door open, and in the front room, which is bare of furniture, discovered the body of a gentleman, well dressed, and having cards in his pocket bearing the name of 'Enoch J. Drebber, Cleveland, Ohio, U.S.A.' There had been no robbery, nor is there any evidence as to how the man met his death. There are marks of blood in the room, but there is no wound upon his person. We are at a loss as to how he came into the empty house; indeed, the whole affair is a puzzler. If you can come round to the house any time before twelve, you will find me there. I have left everything in statu quo until I hear from you. If you are unable to come I shall give you fuller details, and would esteem it a great kindness if you would favour me with your opinion. \"Yours faithfully, \"Tobias Gregson.\"  \"Gregson is the smartest of the Scotland Yarders,\" my friend remarked; \"he and Lestrade are the pick of a bad lot. They are both quick and energetic, but conventional--shockingly so. They have their knives into one another, too. They are as jealous as a pair of professional beauties. There will be some fun over this case if they are both put upon the scent.\"  I was amazed at the calm way in which he rippled on. \"Surely there is not a moment to be lost,\" I cried, \"shall I go and order you a cab?\"  \"I'm not sure about whether I shall go. I am the most incurably lazy devil that ever stood in shoe leather--that is, when the fit is on me, for I can be spry enough at times.\"  \"Why, it is just such a chance as you have been longing for.\"  \"My dear fellow, what does it matter to me. Supposing I unravel the whole matter, you may be sure that Gregson, Lestrade, and Co. will pocket all the credit. That comes of being an unofficial personage.\"  \"But he begs you to help him.\"  \"Yes. He knows that I am his superior, and acknowledges it to me; but he would cut his tongue out before he would own it to any third person. However, we may as well go and have a look. I shall work it out on my own hook. I may have a laugh at them if I have nothing else. Come on!\"  He hustled on his overcoat, and bustled about in a way that showed that an energetic fit had superseded the apathetic one.  \"Get your hat,\" he said.  \"You wish me to come?\"  \"Yes, if you have nothing better to do.\" A minute later we were both in a hansom, driving furiously for the Brixton Road.  It was a foggy, cloudy morning, and a dun-coloured veil hung over the house-tops, looking like the reflection of the mud-coloured streets beneath. My companion was in the best of spirits, and prattled away about Cremona fiddles, and the difference between a Stradivarius and an Amati. As for myself, I was silent, for the dull weather and the melancholy business upon which we were engaged, depressed my spirits.  \"You don't seem to give much thought to the matter in hand,\" I said at last, interrupting Holmes' musical disquisition.  \"No data yet,\" he answered. \"It is a capital mistake to theorize before you have all the evidence. It biases the judgment.\"  \"You will have your data soon,\" I remarked, pointing with my finger; \"this is the Brixton Road, and that is the house, if I am not very much mistaken.\"  \"So it is. Stop, driver, stop!\" We were still a hundred yards or so from it, but he insisted upon our alighting, and we finished our journey upon foot.  Number 3, Lauriston Gardens wore an ill-omened and minatory look. It was one of four which stood back some little way from the street, two being occupied and two empty. The latter looked out with three tiers of vacant melancholy windows, which were blank and dreary, save that here and there a \"To Let\" card had developed like a cataract upon the bleared panes. A small garden sprinkled over with a scattered eruption of sickly plants separated each of these houses from the street, and was traversed by a narrow pathway, yellowish in colour, and consisting apparently of a mixture of clay and of gravel. The whole place was very sloppy from the rain which had fallen through the night. The garden was bounded by a three-foot brick wall with a fringe of wood rails upon the top, and against this wall was leaning a stalwart police constable, surrounded by a small knot of loafers, who craned their necks and strained their eyes in the vain hope of catching some glimpse of the proceedings within.  I had imagined that Sherlock Holmes would at once have hurried into the house and plunged into a study of the mystery. Nothing appeared to be further from his intention. With an air of nonchalance which, under the circumstances, seemed to me to border upon affectation, he lounged up and down the pavement, and gazed vacantly at the ground, the sky, the opposite houses and the line of railings. Having finished his scrutiny, he proceeded slowly down the path, or rather down the fringe of grass which flanked the path, keeping his eyes riveted upon the ground. Twice he stopped, and once I saw him smile, and heard him utter an exclamation of satisfaction. There were many marks of footsteps upon the wet clayey soil, but since the police had been coming and going over it, I was unable to see how my companion could hope to learn anything from it. Still I had had such extraordinary evidence of the quickness of his perceptive faculties, that I had no doubt that he could see a great deal which was hidden from me.  At the door of the house we were met by a tall, white-faced, flaxen-haired man, with a notebook in his hand, who rushed forward and wrung my companion's hand with effusion. \"It is indeed kind of you to come,\" he said, \"I have had everything left untouched.\"  \"Except that!\" my friend answered, pointing at the pathway. \"If a herd of buffaloes had passed along there could not be a greater mess. No doubt, however, you had drawn your own conclusions, Gregson, before you permitted this.\"  \"I have had so much to do inside the house,\" the detective said evasively. \"My colleague, Mr. Lestrade, is here. I had relied upon him to look after this.\"  Holmes glanced at me and raised his eyebrows sardonically. \"With two such men as yourself and Lestrade upon the ground, there will not be much for a third party to find out,\" he said.  Gregson rubbed his hands in a self-satisfied way. \"I think we have done all that can be done,\" he answered; \"it's a queer case though, and I knew your taste for such things.\"  \"You did not come here in a cab?\" asked Sherlock Holmes.  \"No, sir.\"  \"Nor Lestrade?\"  \"No, sir.\"  \"Then let us go and look at the room.\" With which inconsequent remark he strode on into the house, followed by Gregson, whose features expressed his astonishment.  A short passage, bare planked and dusty, led to the kitchen and offices. Two doors opened out of it to the left and to the right. One of these had obviously been closed for many weeks. The other belonged to the dining-room, which was the apartment in which the mysterious affair had occurred. Holmes walked in, and I followed him with that subdued feeling at my heart which the presence of death inspires.  It was a large square room, looking all the larger from the absence of all furniture. A vulgar flaring paper adorned the walls, but it was blotched in places with mildew, and here and there great strips had become detached and hung down, exposing the yellow plaster beneath. Opposite the door was a showy fireplace, surmounted by a mantelpiece of imitation white marble. On one corner of this was stuck the stump of a red wax candle. The solitary window was so dirty that the light was hazy and uncertain, giving a dull grey tinge to everything, which was intensified by the thick layer of dust which coated the whole apartment.  All these details I observed afterwards. At present my attention was centred upon the single grim motionless figure which lay stretched upon the boards, with vacant sightless eyes staring up at the discoloured ceiling. It was that of a man about forty-three or forty-four years of age, middle-sized, broad shouldered, with crisp curling black hair, and a short stubbly beard. He was dressed in a heavy broadcloth frock coat and waistcoat, with light-coloured trousers, and immaculate collar and cuffs. A top hat, well brushed and trim, was placed upon the floor beside him. His hands were clenched and his arms thrown abroad, while his lower limbs were interlocked as though his death struggle had been a grievous one. On his rigid face there stood an expression of horror, and as it seemed to me, of hatred, such as I have never seen upon human features. This malignant and terrible contortion, combined with the low forehead, blunt nose, and prognathous jaw gave the dead man a singularly simious and ape-like appearance, which was increased by his writhing, unnatural posture. I have seen death in many forms, but never has it appeared to me in a more fearsome aspect than in that dark grimy apartment, which looked out upon one of the main arteries of suburban London.  Lestrade, lean and ferret-like as ever, was standing by the doorway, and greeted my companion and myself.  \"This case will make a stir, sir,\" he remarked. \"It beats anything I have seen, and I am no chicken.\"  \"There is no clue?\" said Gregson.  \"None at all,\" chimed in Lestrade.  Sherlock Holmes approached the body, and, kneeling down, examined it intently. \"You are sure that there is no wound?\" he asked, pointing to numerous gouts and splashes of blood which lay all round.  \"Positive!\" cried both detectives.  \"Then, of course, this blood belongs to a second individual--presumably the murderer, if murder has been committed. It reminds me of the circumstances attendant on the death of Van Jansen, in Utrecht, in the year '34. Do you remember the case, Gregson?\"  \"No, sir.\"  \"Read it up--you really should. There is nothing new under the sun. It has all been done before.\"  As he spoke, his nimble fingers were flying here, there, and everywhere, feeling, pressing, unbuttoning, examining, while his eyes wore the same far-away expression which I have already remarked upon. So swiftly was the examination made, that one would hardly have guessed the minuteness with which it was conducted.\n"
     ]
    }
   ],
   "source": [
    "print(text[0:50000])"
   ]
  },
  {
   "cell_type": "markdown",
   "metadata": {},
   "source": [
    "* Write a regular expression to list down all the chapter numbers found in the text"
   ]
  },
  {
   "cell_type": "code",
   "execution_count": 30,
   "metadata": {},
   "outputs": [],
   "source": [
    "# your answers"
   ]
  },
  {
   "cell_type": "code",
   "execution_count": 31,
   "metadata": {},
   "outputs": [
    {
     "data": {
      "text/plain": [
       "['CHAPTER I',\n",
       " 'CHAPTER II',\n",
       " 'CHAPTER III',\n",
       " 'CHAPTER IV',\n",
       " 'CHAPTER V',\n",
       " 'CHAPTER VI',\n",
       " 'CHAPTER VII',\n",
       " 'CHAPTER I',\n",
       " 'CHAPTER II',\n",
       " 'CHAPTER III',\n",
       " 'CHAPTER IV',\n",
       " 'CHAPTER V',\n",
       " 'CHAPTER VI',\n",
       " 'CHAPTER VII',\n",
       " 'CHAPTER I',\n",
       " 'CHAPTER II',\n",
       " 'CHAPTER III',\n",
       " 'CHAPTER IV',\n",
       " 'CHAPTER V',\n",
       " 'CHAPTER VI',\n",
       " 'CHAPTER VII',\n",
       " 'CHAPTER VIII',\n",
       " 'CHAPTER IX',\n",
       " 'CHAPTER X',\n",
       " 'CHAPTER XI',\n",
       " 'CHAPTER XII',\n",
       " 'CHAPTER I',\n",
       " 'CHAPTER II',\n",
       " 'CHAPTER III',\n",
       " 'CHAPTER I',\n",
       " 'CHAPTER II',\n",
       " 'CHAPTER III',\n",
       " 'CHAPTER IV',\n",
       " 'CHAPTER V',\n",
       " 'CHAPTER VI',\n",
       " 'CHAPTER VII',\n",
       " 'CHAPTER VIII',\n",
       " 'CHAPTER IX',\n",
       " 'CHAPTER X',\n",
       " 'CHAPTER XI',\n",
       " 'CHAPTER XII',\n",
       " 'CHAPTER XIII',\n",
       " 'CHAPTER XIV',\n",
       " 'CHAPTER XV',\n",
       " 'CHAPTER I',\n",
       " 'CHAPTER II',\n",
       " 'CHAPTER III',\n",
       " 'CHAPTER IV',\n",
       " 'CHAPTER V',\n",
       " 'CHAPTER VI',\n",
       " 'CHAPTER VII',\n",
       " 'CHAPTER I',\n",
       " 'CHAPTER II',\n",
       " 'CHAPTER III',\n",
       " 'CHAPTER IV',\n",
       " 'CHAPTER V',\n",
       " 'CHAPTER VI',\n",
       " 'CHAPTER VII',\n",
       " 'CHAPTER VIII',\n",
       " 'CHAPTER I',\n",
       " 'CHAPTER II',\n",
       " 'CHAPTER I',\n",
       " 'CHAPTER II']"
      ]
     },
     "execution_count": 31,
     "metadata": {},
     "output_type": "execute_result"
    }
   ],
   "source": [
    "p = re.compile('CHAPTER\\s[\\w]+')\n",
    "p.findall(text)"
   ]
  },
  {
   "cell_type": "markdown",
   "metadata": {},
   "source": [
    "* Use the split() function to split the books by chapters. You should get a list where each item is a chapter"
   ]
  },
  {
   "cell_type": "code",
   "execution_count": 32,
   "metadata": {},
   "outputs": [],
   "source": [
    "# your answers"
   ]
  },
  {
   "cell_type": "code",
   "execution_count": 33,
   "metadata": {},
   "outputs": [],
   "source": [
    "chapters = p.split(text)"
   ]
  },
  {
   "cell_type": "markdown",
   "metadata": {},
   "source": [
    "* Print out the content of chapter 1."
   ]
  },
  {
   "cell_type": "code",
   "execution_count": 34,
   "metadata": {},
   "outputs": [],
   "source": [
    "# your answers"
   ]
  },
  {
   "cell_type": "code",
   "execution_count": 35,
   "metadata": {},
   "outputs": [
    {
     "name": "stdout",
     "output_type": "stream",
     "text": [
      " Mr. Sherlock Holmes   In the year 1878 I took my degree of Doctor of Medicine of the University of London, and proceeded to Netley to go through the course prescribed for surgeons in the army. Having completed my studies there, I was duly attached to the Fifth Northumberland Fusiliers as Assistant Surgeon. The regiment was stationed in India at the time, and before I could join it, the second Afghan war had broken out. On landing at Bombay, I learned that my corps had advanced through the passes, and was already deep in the enemy's country. I followed, however, with many other officers who were in the same situation as myself, and succeeded in reaching Candahar in safety, where I found my regiment, and at once entered upon my new duties.  The campaign brought honours and promotion to many, but for me it had nothing but misfortune and disaster. I was removed from my brigade and attached to the Berkshires, with whom I served at the fatal battle of Maiwand. There I was struck on the shoulder by a Jezail bullet, which shattered the bone and grazed the subclavian artery. I should have fallen into the hands of the murderous Ghazis had it not been for the devotion and courage shown by Murray, my orderly, who threw me across a pack-horse, and succeeded in bringing me safely to the British lines.  Worn with pain, and weak from the prolonged hardships which I had undergone, I was removed, with a great train of wounded sufferers, to the base hospital at Peshawar. Here I rallied, and had already improved so far as to be able to walk about the wards, and even to bask a little upon the verandah, when I was struck down by enteric fever, that curse of our Indian possessions. For months my life was despaired of, and when at last I came to myself and became convalescent, I was so weak and emaciated that a medical board determined that not a day should be lost in sending me back to England. I was dispatched, accordingly, in the troopship Orontes, and landed a month later on Portsmouth jetty, with my health irretrievably ruined, but with permission from a paternal government to spend the next nine months in attempting to improve it.  I had neither kith nor kin in England, and was therefore as free as air--or as free as an income of eleven shillings and sixpence a day will permit a man to be. Under such circumstances, I naturally gravitated to London, that great cesspool into which all the loungers and idlers of the Empire are irresistibly drained. There I stayed for some time at a private hotel in the Strand, leading a comfortless, meaningless existence, and spending such money as I had, considerably more freely than I ought. So alarming did the state of my finances become, that I soon realized that I must either leave the metropolis and rusticate somewhere in the country, or that I must make a complete alteration in my style of living. Choosing the latter alternative, I began by making up my mind to leave the hotel, and to take up my quarters in some less pretentious and less expensive domicile.  On the very day that I had come to this conclusion, I was standing at the Criterion Bar, when some one tapped me on the shoulder, and turning round I recognized young Stamford, who had been a dresser under me at Bart's. The sight of a friendly face in the great wilderness of London is a pleasant thing indeed to a lonely man. In old days Stamford had never been a particular crony of mine, but now I hailed him with enthusiasm, and he, in his turn, appeared to be delighted to see me. In the exuberance of my joy, I asked him to lunch with me at the Holborn, and we started off together in a hansom.  \"Whatever have you been doing with yourself, Watson?\" he asked in undisguised wonder, as we rattled through the crowded London streets. \"You are as thin as a lath and as brown as a nut.\"  I gave him a short sketch of my adventures, and had hardly concluded it by the time that we reached our destination.  \"Poor devil!\" he said, commiseratingly, after he had listened to my misfortunes. \"What are you up to now?\"  \"Looking for lodgings,\" I answered. \"Trying to solve the problem as to whether it is possible to get comfortable rooms at a reasonable price.\"  \"That's a strange thing,\" remarked my companion; \"you are the second man to-day that has used that expression to me.\"  \"And who was the first?\" I asked.  \"A fellow who is working at the chemical laboratory up at the hospital. He was bemoaning himself this morning because he could not get someone to go halves with him in some nice rooms which he had found, and which were too much for his purse.\"  \"By Jove!\" I cried, \"if he really wants someone to share the rooms and the expense, I am the very man for him. I should prefer having a partner to being alone.\"  Young Stamford looked rather strangely at me over his wine-glass. \"You don't know Sherlock Holmes yet,\" he said; \"perhaps you would not care for him as a constant companion.\"  \"Why, what is there against him?\"  \"Oh, I didn't say there was anything against him. He is a little queer in his ideas--an enthusiast in some branches of science. As far as I know he is a decent fellow enough.\"  \"A medical student, I suppose?\" said I.  \"No--I have no idea what he intends to go in for. I believe he is well up in anatomy, and he is a first-class chemist; but, as far as I know, he has never taken out any systematic medical classes. His studies are very desultory and eccentric, but he has amassed a lot of out-of-the way knowledge which would astonish his professors.\"  \"Did you never ask him what he was going in for?\" I asked.  \"No; he is not a man that it is easy to draw out, though he can be communicative enough when the fancy seizes him.\"  \"I should like to meet him,\" I said. \"If I am to lodge with anyone, I should prefer a man of studious and quiet habits. I am not strong enough yet to stand much noise or excitement. I had enough of both in Afghanistan to last me for the remainder of my natural existence. How could I meet this friend of yours?\"  \"He is sure to be at the laboratory,\" returned my companion. \"He either avoids the place for weeks, or else he works there from morning to night. If you like, we shall drive round together after luncheon.\"  \"Certainly,\" I answered, and the conversation drifted away into other channels.  As we made our way to the hospital after leaving the Holborn, Stamford gave me a few more particulars about the gentleman whom I proposed to take as a fellow-lodger.  \"You mustn't blame me if you don't get on with him,\" he said; \"I know nothing more of him than I have learned from meeting him occasionally in the laboratory. You proposed this arrangement, so you must not hold me responsible.\"  \"If we don't get on it will be easy to part company,\" I answered. \"It seems to me, Stamford,\" I added, looking hard at my companion, \"that you have some reason for washing your hands of the matter. Is this fellow's temper so formidable, or what is it? Don't be mealy-mouthed about it.\"  \"It is not easy to express the inexpressible,\" he answered with a laugh. \"Holmes is a little too scientific for my tastes--it approaches to cold-bloodedness. I could imagine his giving a friend a little pinch of the latest vegetable alkaloid, not out of malevolence, you understand, but simply out of a spirit of inquiry in order to have an accurate idea of the effects. To do him justice, I think that he would take it himself with the same readiness. He appears to have a passion for definite and exact knowledge.\"  \"Very right too.\"  \"Yes, but it may be pushed to excess. When it comes to beating the subjects in the dissecting-rooms with a stick, it is certainly taking rather a bizarre shape.\"  \"Beating the subjects!\"  \"Yes, to verify how far bruises may be produced after death. I saw him at it with my own eyes.\"  \"And yet you say he is not a medical student?\"  \"No. Heaven knows what the objects of his studies are. But here we are, and you must form your own impressions about him.\" As he spoke, we turned down a narrow lane and passed through a small side-door, which opened into a wing of the great hospital. It was familiar ground to me, and I needed no guiding as we ascended the bleak stone staircase and made our way down the long corridor with its vista of whitewashed wall and dun-coloured doors. Near the further end a low arched passage branched away from it and led to the chemical laboratory.  This was a lofty chamber, lined and littered with countless bottles. Broad, low tables were scattered about, which bristled with retorts, test-tubes, and little Bunsen lamps, with their blue flickering flames. There was only one student in the room, who was bending over a distant table absorbed in his work. At the sound of our steps he glanced round and sprang to his feet with a cry of pleasure. \"I've found it! I've found it,\" he shouted to my companion, running towards us with a test-tube in his hand. \"I have found a re-agent which is precipitated by hoemoglobin, and by nothing else.\" Had he discovered a gold mine, greater delight could not have shone upon his features.  \"Dr. Watson, Mr. Sherlock Holmes,\" said Stamford, introducing us.  \"How are you?\" he said cordially, gripping my hand with a strength for which I should hardly have given him credit. \"You have been in Afghanistan, I perceive.\"  \"How on earth did you know that?\" I asked in astonishment.  \"Never mind,\" said he, chuckling to himself. \"The question now is about hoemoglobin. No doubt you see the significance of this discovery of mine?\"  \"It is interesting, chemically, no doubt,\" I answered, \"but practically--\"  \"Why, man, it is the most practical medico-legal discovery for years. Don't you see that it gives us an infallible test for blood stains. Come over here now!\" He seized me by the coat-sleeve in his eagerness, and drew me over to the table at which he had been working. \"Let us have some fresh blood,\" he said, digging a long bodkin into his finger, and drawing off the resulting drop of blood in a chemical pipette. \"Now, I add this small quantity of blood to a litre of water. You perceive that the resulting mixture has the appearance of pure water. The proportion of blood cannot be more than one in a million. I have no doubt, however, that we shall be able to obtain the characteristic reaction.\" As he spoke, he threw into the vessel a few white crystals, and then added some drops of a transparent fluid. In an instant the contents assumed a dull mahogany colour, and a brownish dust was precipitated to the bottom of the glass jar.  \"Ha! ha!\" he cried, clapping his hands, and looking as delighted as a child with a new toy. \"What do you think of that?\"  \"It seems to be a very delicate test,\" I remarked.  \"Beautiful! beautiful! The old Guiacum test was very clumsy and uncertain. So is the microscopic examination for blood corpuscles. The latter is valueless if the stains are a few hours old. Now, this appears to act as well whether the blood is old or new. Had this test been invented, there are hundreds of men now walking the earth who would long ago have paid the penalty of their crimes.\"  \"Indeed!\" I murmured.  \"Criminal cases are continually hinging upon that one point. A man is suspected of a crime months perhaps after it has been committed. His linen or clothes are examined, and brownish stains discovered upon them. Are they blood stains, or mud stains, or rust stains, or fruit stains, or what are they? That is a question which has puzzled many an expert, and why? Because there was no reliable test. Now we have the Sherlock Holmes' test, and there will no longer be any difficulty.\"  His eyes fairly glittered as he spoke, and he put his hand over his heart and bowed as if to some applauding crowd conjured up by his imagination.  \"You are to be congratulated,\" I remarked, considerably surprised at his enthusiasm.  \"There was the case of Von Bischoff at Frankfort last year. He would certainly have been hung had this test been in existence. Then there was Mason of Bradford, and the notorious Muller, and Lefevre of Montpellier, and Samson of new Orleans. I could name a score of cases in which it would have been decisive.\"  \"You seem to be a walking calendar of crime,\" said Stamford with a laugh. \"You might start a paper on those lines. Call it the 'Police News of the Past.'\"  \"Very interesting reading it might be made, too,\" remarked Sherlock Holmes, sticking a small piece of plaster over the prick on his finger. \"I have to be careful,\" he continued, turning to me with a smile, \"for I dabble with poisons a good deal.\" He held out his hand as he spoke, and I noticed that it was all mottled over with similar pieces of plaster, and discoloured with strong acids.  \"We came here on business,\" said Stamford, sitting down on a high three-legged stool, and pushing another one in my direction with his foot. \"My friend here wants to take diggings, and as you were complaining that you could get no one to go halves with you, I thought that I had better bring you together.\"  Sherlock Holmes seemed delighted at the idea of sharing his rooms with me. \"I have my eye on a suite in Baker Street,\" he said, \"which would suit us down to the ground. You don't mind the smell of strong tobacco, I hope?\"  \"I always smoke 'ship's' myself,\" I answered.  \"That's good enough. I generally have chemicals about, and occasionally do experiments. Would that annoy you?\"  \"By no means.\"  \"Let me see--what are my other shortcomings. I get in the dumps at times, and don't open my mouth for days on end. You must not think I am sulky when I do that. Just let me alone, and I'll soon be right. What have you to confess now? It's just as well for two fellows to know the worst of one another before they begin to live together.\"  I laughed at this cross-examination. \"I keep a bull pup,\" I said, \"and I object to rows because my nerves are shaken, and I get up at all sorts of ungodly hours, and I am extremely lazy. I have another set of vices when I'm well, but those are the principal ones at present.\"  \"Do you include violin-playing in your category of rows?\" he asked, anxiously.  \"It depends on the player,\" I answered. \"A well-played violin is a treat for the gods--a badly-played one--\"  \"Oh, that's all right,\" he cried, with a merry laugh. \"I think we may consider the thing as settled--that is, if the rooms are agreeable to you.\"  \"When shall we see them?\"  \"Call for me here at noon to-morrow, and we'll go together and settle everything,\" he answered.  \"All right--noon exactly,\" said I, shaking his hand.  We left him working among his chemicals, and we walked together towards my hotel.  \"By the way,\" I asked suddenly, stopping and turning upon Stamford, \"how the deuce did he know that I had come from Afghanistan?\"  My companion smiled an enigmatical smile. \"That's just his little peculiarity,\" he said. \"A good many people have wanted to know how he finds things out.\"  \"Oh! a mystery is it?\" I cried, rubbing my hands. \"This is very piquant. I am much obliged to you for bringing us together. 'The proper study of mankind is man,' you know.\"  \"You must study him, then,\" Stamford said, as he bade me good-bye. \"You'll find him a knotty problem, though. I'll wager he learns more about you than you about him. Good-bye.\"  \"Good-bye,\" I answered, and strolled on to my hotel, considerably interested in my new acquaintance.      \n"
     ]
    }
   ],
   "source": [
    "print (chapters[1])"
   ]
  },
  {
   "cell_type": "markdown",
   "metadata": {},
   "source": [
    "## Question 7\n",
    "\n",
    "Finally, you can break the book into its respective chapters.\n",
    "Output the chapters into individual files."
   ]
  },
  {
   "cell_type": "code",
   "execution_count": 36,
   "metadata": {},
   "outputs": [],
   "source": [
    "# your answers"
   ]
  },
  {
   "cell_type": "code",
   "execution_count": 37,
   "metadata": {},
   "outputs": [
    {
     "name": "stdout",
     "output_type": "stream",
     "text": [
      "Writing to data/output/Chapter_0.txt\n",
      "Writing to data/output/Chapter_1.txt\n",
      "Writing to data/output/Chapter_2.txt\n",
      "Writing to data/output/Chapter_3.txt\n",
      "Writing to data/output/Chapter_4.txt\n",
      "Writing to data/output/Chapter_5.txt\n",
      "Writing to data/output/Chapter_6.txt\n",
      "Writing to data/output/Chapter_7.txt\n",
      "Writing to data/output/Chapter_8.txt\n",
      "Writing to data/output/Chapter_9.txt\n",
      "Writing to data/output/Chapter_10.txt\n",
      "Writing to data/output/Chapter_11.txt\n",
      "Writing to data/output/Chapter_12.txt\n",
      "Writing to data/output/Chapter_13.txt\n",
      "Writing to data/output/Chapter_14.txt\n",
      "Writing to data/output/Chapter_15.txt\n",
      "Writing to data/output/Chapter_16.txt\n",
      "Writing to data/output/Chapter_17.txt\n",
      "Writing to data/output/Chapter_18.txt\n",
      "Writing to data/output/Chapter_19.txt\n",
      "Writing to data/output/Chapter_20.txt\n",
      "Writing to data/output/Chapter_21.txt\n",
      "Writing to data/output/Chapter_22.txt\n",
      "Writing to data/output/Chapter_23.txt\n",
      "Writing to data/output/Chapter_24.txt\n",
      "Writing to data/output/Chapter_25.txt\n",
      "Writing to data/output/Chapter_26.txt\n",
      "Writing to data/output/Chapter_27.txt\n",
      "Writing to data/output/Chapter_28.txt\n",
      "Writing to data/output/Chapter_29.txt\n",
      "Writing to data/output/Chapter_30.txt\n",
      "Writing to data/output/Chapter_31.txt\n",
      "Writing to data/output/Chapter_32.txt\n",
      "Writing to data/output/Chapter_33.txt\n",
      "Writing to data/output/Chapter_34.txt\n",
      "Writing to data/output/Chapter_35.txt\n",
      "Writing to data/output/Chapter_36.txt\n",
      "Writing to data/output/Chapter_37.txt\n",
      "Writing to data/output/Chapter_38.txt\n",
      "Writing to data/output/Chapter_39.txt\n",
      "Writing to data/output/Chapter_40.txt\n",
      "Writing to data/output/Chapter_41.txt\n",
      "Writing to data/output/Chapter_42.txt\n",
      "Writing to data/output/Chapter_43.txt\n",
      "Writing to data/output/Chapter_44.txt\n",
      "Writing to data/output/Chapter_45.txt\n",
      "Writing to data/output/Chapter_46.txt\n",
      "Writing to data/output/Chapter_47.txt\n",
      "Writing to data/output/Chapter_48.txt\n",
      "Writing to data/output/Chapter_49.txt\n",
      "Writing to data/output/Chapter_50.txt\n",
      "Writing to data/output/Chapter_51.txt\n",
      "Writing to data/output/Chapter_52.txt\n",
      "Writing to data/output/Chapter_53.txt\n",
      "Writing to data/output/Chapter_54.txt\n",
      "Writing to data/output/Chapter_55.txt\n",
      "Writing to data/output/Chapter_56.txt\n",
      "Writing to data/output/Chapter_57.txt\n",
      "Writing to data/output/Chapter_58.txt\n",
      "Writing to data/output/Chapter_59.txt\n",
      "Writing to data/output/Chapter_60.txt\n",
      "Writing to data/output/Chapter_61.txt\n",
      "Writing to data/output/Chapter_62.txt\n",
      "Writing to data/output/Chapter_63.txt\n"
     ]
    }
   ],
   "source": [
    "for i in range(len(chapters)):\n",
    "    f_name = f\"data/output/Chapter_{i}.txt\"\n",
    "    print (f\"Writing to {f_name}\")\n",
    "    f = open(f_name, \"w\", encoding='utf-8')\n",
    "    f.write(chapters[i])\n",
    "    f.close()"
   ]
  },
  {
   "cell_type": "code",
   "execution_count": null,
   "metadata": {},
   "outputs": [],
   "source": []
  }
 ],
 "metadata": {
  "anaconda-cloud": {},
  "kernelspec": {
   "display_name": "Python 3",
   "language": "python",
   "name": "python3"
  },
  "language_info": {
   "codemirror_mode": {
    "name": "ipython",
    "version": 3
   },
   "file_extension": ".py",
   "mimetype": "text/x-python",
   "name": "python",
   "nbconvert_exporter": "python",
   "pygments_lexer": "ipython3",
   "version": "3.6.7"
  }
 },
 "nbformat": 4,
 "nbformat_minor": 1
}
