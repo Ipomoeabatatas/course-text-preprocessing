{
 "cells": [
  {
   "cell_type": "markdown",
   "metadata": {},
   "source": [
    "# Regular Expressions Exercise\n",
    "\n",
    "Acknowledgement: This notebook is adapted from the Intel AI Developer Program\n",
    "\n",
    "## Introduction\n",
    "\n",
    "Lets download the complete works of Sherlock Holmes and do some detective work using regular expression.\n",
    "\n",
    "For many of these exercises it is helpful to compile a regular expression p and then use p.findall() followed by some additional simple python processing to answer the questions\n"
   ]
  },
  {
   "cell_type": "code",
   "execution_count": null,
   "metadata": {},
   "outputs": [],
   "source": [
    "import re"
   ]
  },
  {
   "cell_type": "code",
   "execution_count": null,
   "metadata": {},
   "outputs": [],
   "source": [
    "# for linux and mac, uncomment and run the following line:\n",
    "# !wget https://sherlock-holm.es/stories/plain-text/cnus.txt\n",
    "# for windows, use your browser to download txt file and place in working directory"
   ]
  },
  {
   "cell_type": "code",
   "execution_count": 2,
   "metadata": {},
   "outputs": [],
   "source": [
    "text = ''\n",
    "with open('./data/cnus.txt','r', encoding='utf-8') as f:\n",
    "    text = \" \".join([l.strip() for l in f.readlines()])"
   ]
  },
  {
   "cell_type": "code",
   "execution_count": null,
   "metadata": {},
   "outputs": [],
   "source": [
    "text[2611:3000]"
   ]
  },
  {
   "cell_type": "markdown",
   "metadata": {},
   "source": [
    "## Question 1\n",
    "\n",
    "One of Sherlock Holmes' famous catch phrases is the use of the word 'undoubtedly'\n",
    "\n",
    "* How many times is the word 'undoubtedly' used?\n",
    "* Hint: findall returns the resuls in a list. You can use the length of the returned list."
   ]
  },
  {
   "cell_type": "code",
   "execution_count": null,
   "metadata": {},
   "outputs": [],
   "source": [
    "# your answer"
   ]
  },
  {
   "cell_type": "markdown",
   "metadata": {},
   "source": [
    "## Question 2\n",
    "\n",
    "Characters are announced very deliberatly in the language of the setting in Victorian England. We can use this later to find characters in the book. But for now let's practice on a character we know.\n",
    "\n",
    "* How often is Sherlock Holmes refered to by 'Mr. Sherlock Holmes' vs 'Sherlock Holmes' vs. 'Mr. Holmes' vs 'Sherlock'\n",
    "* Hint 1: We can start with finding the occurance of the pattern Sherlock Holmes.\n",
    "* Hint 2: If you read novel, you will also know that characters can be referred to by their given name or surname. In this case you can use the \"or\" operator |, for example \"Sherlock Holmes|Mr Holmes|Mr Sherlock Homes\""
   ]
  },
  {
   "cell_type": "code",
   "execution_count": null,
   "metadata": {},
   "outputs": [],
   "source": [
    "# your answer based on Hint 1"
   ]
  },
  {
   "cell_type": "code",
   "execution_count": null,
   "metadata": {},
   "outputs": [],
   "source": [
    "# your answer based on Hint 2"
   ]
  },
  {
   "cell_type": "markdown",
   "metadata": {},
   "source": [
    "## Question 3\n",
    "\n",
    "* Find all the doctors in the collection\n",
    "    \n",
    "* Hint: Make a list of all the characters that first appear in the collection. You can assume that the characters have a proper salutation sich as  Mrs. Mr. Miss. Dr. etc"
   ]
  },
  {
   "cell_type": "code",
   "execution_count": null,
   "metadata": {},
   "outputs": [],
   "source": [
    "# Your answer"
   ]
  },
  {
   "cell_type": "markdown",
   "metadata": {},
   "source": [
    "## Question 4\n",
    "\n",
    "* Search out all the years that appear in the story.\n",
    "* What is the format for year? If you know the book series, which years are the stories mostly likely set in?"
   ]
  },
  {
   "cell_type": "code",
   "execution_count": null,
   "metadata": {},
   "outputs": [],
   "source": [
    "# Your answer"
   ]
  },
  {
   "cell_type": "markdown",
   "metadata": {},
   "source": [
    "## Question 5\n",
    "\n",
    "Sherlock holmes is frequently smoking his pipe. But like many verbs in English, there are many ways that the word smoking can be conjugated depending on the context.\n",
    "\n",
    "* Capture all sentences that take about smoking (smoke, smokes, smoking, smoked).\n",
    "* Hint: For simplicity, since this is a properly written novel, you can assume that the start of a sentence has a word breaker and starts with capital letter, and ends with a full stop.\n"
   ]
  },
  {
   "cell_type": "code",
   "execution_count": null,
   "metadata": {},
   "outputs": [],
   "source": [
    "# Your answer"
   ]
  },
  {
   "cell_type": "markdown",
   "metadata": {},
   "source": [
    "    \n",
    "## Question 6\n",
    "\n",
    "Often we will recieve a block of unstructured text within some delimiter. For example,\n",
    "a book is often segmented into chapters.\n",
    "We can use REGEX to search the chapter delimiter for a book and split into its chapter.\n",
    "\n",
    "* View the contents of the text by looking at the first 50,000 characters. Confirm if the book is divided into CHAPTER headings.\n"
   ]
  },
  {
   "cell_type": "code",
   "execution_count": null,
   "metadata": {
    "scrolled": false
   },
   "outputs": [],
   "source": [
    "print(text[0:50000])"
   ]
  },
  {
   "cell_type": "markdown",
   "metadata": {},
   "source": [
    "* Write a regular expression to list down all the chapter numbers found in the text"
   ]
  },
  {
   "cell_type": "code",
   "execution_count": null,
   "metadata": {},
   "outputs": [],
   "source": [
    "# your answer"
   ]
  },
  {
   "cell_type": "markdown",
   "metadata": {},
   "source": [
    "* Use the split() function to split the books by chapters. You should get a list where each item is a chapter"
   ]
  },
  {
   "cell_type": "code",
   "execution_count": null,
   "metadata": {},
   "outputs": [],
   "source": [
    "# your answer"
   ]
  },
  {
   "cell_type": "markdown",
   "metadata": {},
   "source": [
    "* Print out the content of chapter 1."
   ]
  },
  {
   "cell_type": "code",
   "execution_count": null,
   "metadata": {},
   "outputs": [],
   "source": [
    "# your answers"
   ]
  },
  {
   "cell_type": "markdown",
   "metadata": {},
   "source": [
    "## Question 7\n",
    "\n",
    "Finally, you can break the book into its respective chapters.\n",
    "Output the chapters into individual files."
   ]
  },
  {
   "cell_type": "code",
   "execution_count": null,
   "metadata": {},
   "outputs": [],
   "source": [
    "# your answers"
   ]
  }
 ],
 "metadata": {
  "anaconda-cloud": {},
  "kernelspec": {
   "display_name": "Python 3",
   "language": "python",
   "name": "python3"
  },
  "language_info": {
   "codemirror_mode": {
    "name": "ipython",
    "version": 3
   },
   "file_extension": ".py",
   "mimetype": "text/x-python",
   "name": "python",
   "nbconvert_exporter": "python",
   "pygments_lexer": "ipython3",
   "version": "3.6.7"
  }
 },
 "nbformat": 4,
 "nbformat_minor": 1
}
