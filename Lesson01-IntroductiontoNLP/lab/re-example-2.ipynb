{
 "cells": [
  {
   "cell_type": "markdown",
   "metadata": {},
   "source": [
    "### Example on Regular Expression"
   ]
  },
  {
   "cell_type": "markdown",
   "metadata": {},
   "source": [
    "###  Import re"
   ]
  },
  {
   "cell_type": "code",
   "execution_count": 23,
   "metadata": {},
   "outputs": [],
   "source": [
    "import re"
   ]
  },
  {
   "cell_type": "markdown",
   "metadata": {},
   "source": [
    "##### Let us explore findall method"
   ]
  },
  {
   "cell_type": "markdown",
   "metadata": {},
   "source": [
    "\n",
    "####  Limitation of search() method\n",
    "In the previous example, we use the search() method to find the\n",
    "first occurrance of a pattern. But this is not very useful, as you\n",
    "can see from the example below. It only result the first match.\n",
    "Sometimes we want to find all occurances of the search string."
   ]
  },
  {
   "cell_type": "code",
   "execution_count": 24,
   "metadata": {
    "scrolled": true
   },
   "outputs": [],
   "source": [
    "string = \"\"\"Including the interim dividend of \n",
    "10 cents per share paid on 3 December 2013, the proposed final dividend \n",
    "of 11 cents per share and the proposed special dividend of 25 cents per share \n",
    "to be paid on 14 August 2014, the total dividend for the\n",
    "2013-14 financial year will be 46 cents per share. \"\"\"\n",
    "\n",
    "pattern = \"\\d+ cents per share\"\n",
    "\n",
    "result = re.search(pattern, string)"
   ]
  },
  {
   "cell_type": "code",
   "execution_count": 25,
   "metadata": {},
   "outputs": [
    {
     "name": "stdout",
     "output_type": "stream",
     "text": [
      "<_sre.SRE_Match object; span=(35, 53), match='10 cents per share'>\n"
     ]
    }
   ],
   "source": [
    "print (result)"
   ]
  },
  {
   "cell_type": "markdown",
   "metadata": {},
   "source": [
    "####  Introducing findall() method\n",
    "The findall() finds all match, and returns a list of sub-string\n",
    "that matches the regular expression."
   ]
  },
  {
   "cell_type": "code",
   "execution_count": 45,
   "metadata": {},
   "outputs": [],
   "source": [
    "string = \"\"\"Including the interim dividend of 10 cents per share paid \n",
    "on 3 December 2013, the proposed final dividend of 11 cents per share \n",
    "and the proposed special dividend of 25 cents per share to be paid on \n",
    "14 August 2014, the total dividend for the 2013-14 financial year will \n",
    "be 46 cents per share. \"\"\"\n",
    "\n",
    "pattern = \"\\d+ cents per share\"\n",
    "\n",
    "result = re.findall(pattern, string, flags=re.IGNORECASE)"
   ]
  },
  {
   "cell_type": "code",
   "execution_count": 46,
   "metadata": {},
   "outputs": [
    {
     "name": "stdout",
     "output_type": "stream",
     "text": [
      "['10 cents per share', '11 cents per share', '25 cents per share', '46 cents per share']\n"
     ]
    }
   ],
   "source": [
    "print (result)"
   ]
  },
  {
   "cell_type": "code",
   "execution_count": null,
   "metadata": {},
   "outputs": [],
   "source": []
  }
 ],
 "metadata": {
  "kernelspec": {
   "display_name": "Python 3",
   "language": "python",
   "name": "python3"
  },
  "language_info": {
   "codemirror_mode": {
    "name": "ipython",
    "version": 3
   },
   "file_extension": ".py",
   "mimetype": "text/x-python",
   "name": "python",
   "nbconvert_exporter": "python",
   "pygments_lexer": "ipython3",
   "version": "3.6.7"
  }
 },
 "nbformat": 4,
 "nbformat_minor": 2
}
