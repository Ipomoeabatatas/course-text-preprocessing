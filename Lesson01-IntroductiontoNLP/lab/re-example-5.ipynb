{
 "cells": [
  {
   "cell_type": "markdown",
   "metadata": {},
   "source": [
    "### Example on Regular Expression"
   ]
  },
  {
   "cell_type": "code",
   "execution_count": 1,
   "metadata": {},
   "outputs": [],
   "source": [
    "import re"
   ]
  },
  {
   "cell_type": "markdown",
   "metadata": {},
   "source": [
    "##### Let us examine a use case for split()"
   ]
  },
  {
   "cell_type": "markdown",
   "metadata": {},
   "source": [
    "Sometimes an input text document is very large, and we need to\n",
    "further break it in down into sentences for down-stream NLP tasks.\n",
    "We can try to split such documents based on common punctuation\n",
    "symbols (e.g. full stop, question mark, white space etc)."
   ]
  },
  {
   "cell_type": "code",
   "execution_count": 2,
   "metadata": {},
   "outputs": [],
   "source": [
    "string = \"\"\"Mr. Smith bought cheapsite.com for 1.5 million dollars. \n",
    "He paid a lot for it. Did he mind? Adam Jones thinks he didn't. \n",
    "In any case, this isn't true... Well, with a probability of .9, it isn't! Do you agree?\"\"\""
   ]
  },
  {
   "cell_type": "code",
   "execution_count": 3,
   "metadata": {},
   "outputs": [],
   "source": [
    "pattern = \"(?<!\\w\\.\\w.)(?<![A-Z][a-z]\\.)(?<=\\.|\\?)\\s\""
   ]
  },
  {
   "cell_type": "code",
   "execution_count": 4,
   "metadata": {
    "scrolled": false
   },
   "outputs": [
    {
     "name": "stdout",
     "output_type": "stream",
     "text": [
      "['Mr. Smith bought cheapsite.com for 1.5 million dollars.', '\\nHe paid a lot for it.', 'Did he mind?', \"Adam Jones thinks he didn't.\", \"\\nIn any case, this isn't true...\", \"Well, with a probability of .9, it isn't! Do you agree?\"]\n"
     ]
    }
   ],
   "source": [
    "result = re.split(pattern, string)\n",
    "print(result)"
   ]
  },
  {
   "cell_type": "markdown",
   "metadata": {},
   "source": [
    "#### Let us see how to apply compile method for split"
   ]
  },
  {
   "cell_type": "code",
   "execution_count": 5,
   "metadata": {},
   "outputs": [],
   "source": [
    "pattern = \"(?<!\\w\\.\\w.)(?<![A-Z][a-z]\\.)(?<=\\.|\\?)\\s\"\n",
    "compiled_pattern = re.compile(pattern)"
   ]
  },
  {
   "cell_type": "code",
   "execution_count": 6,
   "metadata": {},
   "outputs": [
    {
     "name": "stdout",
     "output_type": "stream",
     "text": [
      "['Mr. Smith bought cheapsite.com for 1.5 million dollars.', '\\nHe paid a lot for it.', 'Did he mind?', \"Adam Jones thinks he didn't.\", \"\\nIn any case, this isn't true...\", \"Well, with a probability of .9, it isn't! Do you agree?\"]\n"
     ]
    }
   ],
   "source": [
    "result = compiled_pattern.split(string)\n",
    "print (result)"
   ]
  },
  {
   "cell_type": "code",
   "execution_count": 11,
   "metadata": {},
   "outputs": [
    {
     "name": "stdout",
     "output_type": "stream",
     "text": [
      "['Mr. Smith bought cheapsite.com for 1.5 million dollars.', 'He paid a lot for it.', 'Did he mind?', \"Adam Jones thinks he didn't.\", \"In any case, this isn't true...\", \"Well, with a probability of .9, it isn't! Do you agree?\"]\n"
     ]
    }
   ],
   "source": [
    "\n",
    "new_result = []\n",
    "for string in result:\n",
    "    newstring = re.sub(\"\\\\n\", \"\", string)\n",
    "    new_results = new_result.append(newstring)\n",
    "    \n",
    "print (new_result)      "
   ]
  },
  {
   "cell_type": "code",
   "execution_count": 9,
   "metadata": {},
   "outputs": [
    {
     "name": "stdout",
     "output_type": "stream",
     "text": [
      "Mr. Smith bought cheapsite.com for 1.5 million dollars.\n",
      "\n",
      "He paid a lot for it.\n",
      "Did he mind?\n",
      "Adam Jones thinks he didn't.\n",
      "\n",
      "In any case, this isn't true...\n",
      "Well, with a probability of .9, it isn't! Do you agree?\n"
     ]
    }
   ],
   "source": [
    "for string in result:\n",
    "    print (string)"
   ]
  },
  {
   "cell_type": "code",
   "execution_count": null,
   "metadata": {},
   "outputs": [],
   "source": []
  }
 ],
 "metadata": {
  "kernelspec": {
   "display_name": "Python 3",
   "language": "python",
   "name": "python3"
  },
  "language_info": {
   "codemirror_mode": {
    "name": "ipython",
    "version": 3
   },
   "file_extension": ".py",
   "mimetype": "text/x-python",
   "name": "python",
   "nbconvert_exporter": "python",
   "pygments_lexer": "ipython3",
   "version": "3.6.7"
  }
 },
 "nbformat": 4,
 "nbformat_minor": 2
}
