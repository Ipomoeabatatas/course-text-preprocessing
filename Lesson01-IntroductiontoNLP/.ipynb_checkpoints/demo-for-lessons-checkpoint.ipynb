{
 "cells": [
  {
   "cell_type": "code",
   "execution_count": 3,
   "metadata": {},
   "outputs": [],
   "source": [
    "\n",
    "import re\n",
    "\n"
   ]
  },
  {
   "cell_type": "code",
   "execution_count": 4,
   "metadata": {},
   "outputs": [],
   "source": [
    "text1   = \"I love chocolates. Chocolates are the best comfort food\""
   ]
  },
  {
   "cell_type": "code",
   "execution_count": 5,
   "metadata": {},
   "outputs": [
    {
     "name": "stdout",
     "output_type": "stream",
     "text": [
      "regular expression is found\n"
     ]
    }
   ],
   "source": [
    "if (re.search(\"chocolates\", text1)):\n",
    "    print('regular expression is found')\n",
    "else:\n",
    "    print ('regular expression is not found')"
   ]
  },
  {
   "cell_type": "code",
   "execution_count": 6,
   "metadata": {},
   "outputs": [
    {
     "name": "stdout",
     "output_type": "stream",
     "text": [
      "regular expression is not found\n"
     ]
    }
   ],
   "source": [
    "if (re.match(\"chocolates\", text1)):\n",
    "    print('regular expression is found')\n",
    "else:\n",
    "    print ('regular expression is not found') "
   ]
  },
  {
   "cell_type": "code",
   "execution_count": 10,
   "metadata": {},
   "outputs": [
    {
     "name": "stdout",
     "output_type": "stream",
     "text": [
      "['This is line 1. ', ' This is line 2. ', ' This is line 3.']\n"
     ]
    }
   ],
   "source": [
    "text2 = \"This is line 1. \\n This is line 2. \\n This is line 3.\"\n",
    "\n",
    "results = re.split(\"\\n\", text2)\n",
    "print (results)"
   ]
  },
  {
   "cell_type": "code",
   "execution_count": null,
   "metadata": {},
   "outputs": [],
   "source": []
  }
 ],
 "metadata": {
  "kernelspec": {
   "display_name": "Python 3",
   "language": "python",
   "name": "python3"
  },
  "language_info": {
   "codemirror_mode": {
    "name": "ipython",
    "version": 3
   },
   "file_extension": ".py",
   "mimetype": "text/x-python",
   "name": "python",
   "nbconvert_exporter": "python",
   "pygments_lexer": "ipython3",
   "version": "3.7.6"
  }
 },
 "nbformat": 4,
 "nbformat_minor": 2
}
